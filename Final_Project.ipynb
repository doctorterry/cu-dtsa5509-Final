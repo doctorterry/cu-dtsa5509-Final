{
 "cells": [
  {
   "cell_type": "markdown",
   "id": "3fc8cc49",
   "metadata": {},
   "source": [
    "# DTSA-5509 Final Project - Surviving the Titanic"
   ]
  },
  {
   "cell_type": "markdown",
   "id": "f04e764d",
   "metadata": {},
   "source": [
    "## 1) Project Topic"
   ]
  },
  {
   "cell_type": "markdown",
   "id": "ade8d89f",
   "metadata": {},
   "source": [
    "This is the final project for DTSA-5509, Introduction to Machine Learning: Supervised Learning.\n",
    "\n",
    "The selected topic is the famous sinking of the Titanic. Specifically, this will be a classification problem.  Given data from the passenger manifest, construct a classification model that will predict the likelihood of survival given certain factors numerical (ex: age) and categorical factors (ex: gender, first/second/third class ticket).  To do this, I will compare both an Adaboost prediction versus a random forest to determine which gives the best prediction.    \n",
    "\n",
    "There are three reasons that I have selected this topic for the final project.  First and most obvious, to apply the lessons learned during the semester to a real-world scenario.  The second reason this topic was selected was to learn the importance of having local knowledge of the target problem to better understand the data and the results.  It will be important to know some of the historical facts about the Titanic to understand the data (for example why women were more likely to survive than men).  Also important is the layout of the ship (specifically the locations of the cabins for each class of passenger).  Thirdly, what can be learned from the analysis?  Does this model generalize to other similar disasters of this era (for example the sinking of the Lusitania) or even closer to the present day (the sinking of the Costa Concordia in 2012).  \n",
    "\n",
    "GitHub repository link:\n",
    "https://github.com/doctorterry/cu-dtsa5509-Final\n",
    "\n",
    "Link to the dataset:\n",
    "https://www.kaggle.com/competitions/titanic/data?select=train.csv\n",
    "\n",
    "Wiki page for the Titanic:\n",
    "https://en.wikipedia.org/wiki/Titanic"
   ]
  },
  {
   "cell_type": "code",
   "execution_count": 1,
   "id": "6387dbef",
   "metadata": {},
   "outputs": [],
   "source": [
    "import numpy as np\n",
    "import pandas as pd\n",
    "import seaborn as sns \n",
    "import matplotlib.pyplot as plt"
   ]
  },
  {
   "cell_type": "markdown",
   "id": "924f89ce",
   "metadata": {},
   "source": [
    " "
   ]
  },
  {
   "cell_type": "markdown",
   "id": "744dc711",
   "metadata": {},
   "source": [
    "## 2) Data"
   ]
  },
  {
   "cell_type": "markdown",
   "id": "f18e9f4e",
   "metadata": {},
   "source": [
    "The Titanic passenger data is a CSV format table that consists of 12 columns and 418 entry rows.  The total amount of possible data entries are equal to 5016 (though some are null values and need to be cleaned).   "
   ]
  },
  {
   "cell_type": "code",
   "execution_count": 2,
   "id": "b5c62592",
   "metadata": {},
   "outputs": [
    {
     "data": {
      "text/html": [
       "<div>\n",
       "<style scoped>\n",
       "    .dataframe tbody tr th:only-of-type {\n",
       "        vertical-align: middle;\n",
       "    }\n",
       "\n",
       "    .dataframe tbody tr th {\n",
       "        vertical-align: top;\n",
       "    }\n",
       "\n",
       "    .dataframe thead th {\n",
       "        text-align: right;\n",
       "    }\n",
       "</style>\n",
       "<table border=\"1\" class=\"dataframe\">\n",
       "  <thead>\n",
       "    <tr style=\"text-align: right;\">\n",
       "      <th></th>\n",
       "      <th>PassengerId</th>\n",
       "      <th>Survived</th>\n",
       "      <th>Pclass</th>\n",
       "      <th>Name</th>\n",
       "      <th>Sex</th>\n",
       "      <th>Age</th>\n",
       "      <th>SibSp</th>\n",
       "      <th>Parch</th>\n",
       "      <th>Ticket</th>\n",
       "      <th>Fare</th>\n",
       "      <th>Cabin</th>\n",
       "      <th>Embarked</th>\n",
       "    </tr>\n",
       "  </thead>\n",
       "  <tbody>\n",
       "    <tr>\n",
       "      <th>0</th>\n",
       "      <td>1</td>\n",
       "      <td>0</td>\n",
       "      <td>3</td>\n",
       "      <td>Braund, Mr. Owen Harris</td>\n",
       "      <td>male</td>\n",
       "      <td>22.0</td>\n",
       "      <td>1</td>\n",
       "      <td>0</td>\n",
       "      <td>A/5 21171</td>\n",
       "      <td>7.2500</td>\n",
       "      <td>NaN</td>\n",
       "      <td>S</td>\n",
       "    </tr>\n",
       "    <tr>\n",
       "      <th>1</th>\n",
       "      <td>2</td>\n",
       "      <td>1</td>\n",
       "      <td>1</td>\n",
       "      <td>Cumings, Mrs. John Bradley (Florence Briggs Th...</td>\n",
       "      <td>female</td>\n",
       "      <td>38.0</td>\n",
       "      <td>1</td>\n",
       "      <td>0</td>\n",
       "      <td>PC 17599</td>\n",
       "      <td>71.2833</td>\n",
       "      <td>C85</td>\n",
       "      <td>C</td>\n",
       "    </tr>\n",
       "    <tr>\n",
       "      <th>2</th>\n",
       "      <td>3</td>\n",
       "      <td>1</td>\n",
       "      <td>3</td>\n",
       "      <td>Heikkinen, Miss. Laina</td>\n",
       "      <td>female</td>\n",
       "      <td>26.0</td>\n",
       "      <td>0</td>\n",
       "      <td>0</td>\n",
       "      <td>STON/O2. 3101282</td>\n",
       "      <td>7.9250</td>\n",
       "      <td>NaN</td>\n",
       "      <td>S</td>\n",
       "    </tr>\n",
       "    <tr>\n",
       "      <th>3</th>\n",
       "      <td>4</td>\n",
       "      <td>1</td>\n",
       "      <td>1</td>\n",
       "      <td>Futrelle, Mrs. Jacques Heath (Lily May Peel)</td>\n",
       "      <td>female</td>\n",
       "      <td>35.0</td>\n",
       "      <td>1</td>\n",
       "      <td>0</td>\n",
       "      <td>113803</td>\n",
       "      <td>53.1000</td>\n",
       "      <td>C123</td>\n",
       "      <td>S</td>\n",
       "    </tr>\n",
       "    <tr>\n",
       "      <th>4</th>\n",
       "      <td>5</td>\n",
       "      <td>0</td>\n",
       "      <td>3</td>\n",
       "      <td>Allen, Mr. William Henry</td>\n",
       "      <td>male</td>\n",
       "      <td>35.0</td>\n",
       "      <td>0</td>\n",
       "      <td>0</td>\n",
       "      <td>373450</td>\n",
       "      <td>8.0500</td>\n",
       "      <td>NaN</td>\n",
       "      <td>S</td>\n",
       "    </tr>\n",
       "  </tbody>\n",
       "</table>\n",
       "</div>"
      ],
      "text/plain": [
       "   PassengerId  Survived  Pclass  \\\n",
       "0            1         0       3   \n",
       "1            2         1       1   \n",
       "2            3         1       3   \n",
       "3            4         1       1   \n",
       "4            5         0       3   \n",
       "\n",
       "                                                Name     Sex   Age  SibSp  \\\n",
       "0                            Braund, Mr. Owen Harris    male  22.0      1   \n",
       "1  Cumings, Mrs. John Bradley (Florence Briggs Th...  female  38.0      1   \n",
       "2                             Heikkinen, Miss. Laina  female  26.0      0   \n",
       "3       Futrelle, Mrs. Jacques Heath (Lily May Peel)  female  35.0      1   \n",
       "4                           Allen, Mr. William Henry    male  35.0      0   \n",
       "\n",
       "   Parch            Ticket     Fare Cabin Embarked  \n",
       "0      0         A/5 21171   7.2500   NaN        S  \n",
       "1      0          PC 17599  71.2833   C85        C  \n",
       "2      0  STON/O2. 3101282   7.9250   NaN        S  \n",
       "3      0            113803  53.1000  C123        S  \n",
       "4      0            373450   8.0500   NaN        S  "
      ]
     },
     "execution_count": 2,
     "metadata": {},
     "output_type": "execute_result"
    }
   ],
   "source": [
    "data = pd.read_csv(\"Titanic.csv\")\n",
    "data.head()"
   ]
  },
  {
   "cell_type": "code",
   "execution_count": 3,
   "id": "a1083c69",
   "metadata": {},
   "outputs": [
    {
     "name": "stdout",
     "output_type": "stream",
     "text": [
      "<class 'pandas.core.frame.DataFrame'>\n",
      "RangeIndex: 891 entries, 0 to 890\n",
      "Data columns (total 12 columns):\n",
      " #   Column       Non-Null Count  Dtype  \n",
      "---  ------       --------------  -----  \n",
      " 0   PassengerId  891 non-null    int64  \n",
      " 1   Survived     891 non-null    int64  \n",
      " 2   Pclass       891 non-null    int64  \n",
      " 3   Name         891 non-null    object \n",
      " 4   Sex          891 non-null    object \n",
      " 5   Age          714 non-null    float64\n",
      " 6   SibSp        891 non-null    int64  \n",
      " 7   Parch        891 non-null    int64  \n",
      " 8   Ticket       891 non-null    object \n",
      " 9   Fare         891 non-null    float64\n",
      " 10  Cabin        204 non-null    object \n",
      " 11  Embarked     889 non-null    object \n",
      "dtypes: float64(2), int64(5), object(5)\n",
      "memory usage: 83.7+ KB\n"
     ]
    }
   ],
   "source": [
    "data.info()"
   ]
  },
  {
   "cell_type": "code",
   "execution_count": 4,
   "id": "818def21",
   "metadata": {},
   "outputs": [
    {
     "data": {
      "text/plain": [
       "Index(['PassengerId', 'Survived', 'Pclass', 'Name', 'Sex', 'Age', 'SibSp',\n",
       "       'Parch', 'Ticket', 'Fare', 'Cabin', 'Embarked'],\n",
       "      dtype='object')"
      ]
     },
     "execution_count": 4,
     "metadata": {},
     "output_type": "execute_result"
    }
   ],
   "source": [
    "data.columns"
   ]
  },
  {
   "cell_type": "markdown",
   "id": "21d6584b",
   "metadata": {},
   "source": [
    " "
   ]
  },
  {
   "cell_type": "markdown",
   "id": "f819b177",
   "metadata": {},
   "source": [
    "Below is a summary of the data categories:\n",
    "\n",
    "| Column Name | Data Type   | Description                                                          |\n",
    "| ----------- | ---------   | -------------------------------------------------------------------- |\n",
    "| Passengerid | Numerical   | A passenger identifier number                                        | \n",
    "| Survived    | Numerical   | Survived the sinking (0 = Dead 1 = Alive)                            |\n",
    "| Pclass      | Numerical   | Ticket class (1 = First class, 2 = Second class, 3 = Third class)    |\n",
    "| Name        | Numerical   | Name of the passenger                                                |\n",
    "| Sex         | Categorical | Passenger gender                                                     |\n",
    "| Age         | Numerical   | Age of passenger in years.                                           |\n",
    "| SibSp       | Numerical   | Number of siblings or spouses aboard the ship.                       |\n",
    "| Parch       | Numerical   | Number of parents or children aboard the ship.                       |\n",
    "| Ticket      | Numerical   | Ticket identifier number.                                            |\n",
    "| Fare        | Numerical   | Amount paid for the ticket (in pounds)                               |\n",
    "| Cabin       | Categorical | Cabin number                                                         |\n",
    "| Embarked    | Categorical | Port of embarkation (C = Cherbourg, Q = Queenstown, S = Southampton) |"
   ]
  },
  {
   "cell_type": "markdown",
   "id": "f41b1fef",
   "metadata": {},
   "source": [
    " "
   ]
  },
  {
   "cell_type": "markdown",
   "id": "f65d8133",
   "metadata": {},
   "source": [
    "## 3) Data Cleaning"
   ]
  },
  {
   "cell_type": "markdown",
   "id": "3ea12407",
   "metadata": {},
   "source": [
    "Reviewing the data, it is easy to observe that there are many null values that will need to be cleaned."
   ]
  },
  {
   "cell_type": "code",
   "execution_count": 5,
   "id": "9fecea70",
   "metadata": {},
   "outputs": [
    {
     "name": "stdout",
     "output_type": "stream",
     "text": [
      "<class 'pandas.core.frame.DataFrame'>\n",
      "RangeIndex: 891 entries, 0 to 890\n",
      "Data columns (total 12 columns):\n",
      " #   Column       Non-Null Count  Dtype  \n",
      "---  ------       --------------  -----  \n",
      " 0   PassengerId  891 non-null    int64  \n",
      " 1   Survived     891 non-null    int64  \n",
      " 2   Pclass       891 non-null    int64  \n",
      " 3   Name         891 non-null    object \n",
      " 4   Sex          891 non-null    object \n",
      " 5   Age          714 non-null    float64\n",
      " 6   SibSp        891 non-null    int64  \n",
      " 7   Parch        891 non-null    int64  \n",
      " 8   Ticket       891 non-null    object \n",
      " 9   Fare         891 non-null    float64\n",
      " 10  Cabin        204 non-null    object \n",
      " 11  Embarked     889 non-null    object \n",
      "dtypes: float64(2), int64(5), object(5)\n",
      "memory usage: 83.7+ KB\n"
     ]
    }
   ],
   "source": [
    "data.info()"
   ]
  },
  {
   "cell_type": "markdown",
   "id": "789b3616",
   "metadata": {},
   "source": [
    " "
   ]
  },
  {
   "cell_type": "markdown",
   "id": "5e80370b",
   "metadata": {},
   "source": [
    "We will first confirm that all possible types of null values are counted."
   ]
  },
  {
   "cell_type": "code",
   "execution_count": 6,
   "id": "81eef935",
   "metadata": {},
   "outputs": [
    {
     "name": "stdout",
     "output_type": "stream",
     "text": [
      "PassengerId 0 0\n",
      "Survived 0 0\n",
      "Pclass 0 0\n",
      "Name 0 0\n",
      "Sex 0 0\n",
      "Age 177 0\n",
      "SibSp 0 0\n",
      "Parch 0 0\n",
      "Ticket 0 0\n",
      "Fare 0 0\n",
      "Cabin 687 0\n",
      "Embarked 2 0\n"
     ]
    }
   ],
   "source": [
    "a = [np.nan, None, [], {}, 'NaN', 'Null','NULL','None','NA','?','-', '.','', ' ', '   ']\n",
    "nulldemo = pd.DataFrame(a)\n",
    "\n",
    "for c in data.columns:\n",
    "    string_null = np.array([x in a[2:] for x in data[c]])\n",
    "    print(c, data[c].isnull().sum(), string_null.sum()) "
   ]
  },
  {
   "cell_type": "markdown",
   "id": "c0473b4f",
   "metadata": {},
   "source": [
    " "
   ]
  },
  {
   "cell_type": "markdown",
   "id": "b2de52e8",
   "metadata": {},
   "source": [
    "The above counts shows that the supported 'NaN' is the only null value used in the table.\n",
    "\n",
    "As a simple sanity check to confirm that the above counts agree with the count provided by the supported function. "
   ]
  },
  {
   "cell_type": "code",
   "execution_count": 7,
   "id": "fe99dc19",
   "metadata": {},
   "outputs": [
    {
     "data": {
      "text/plain": [
       "PassengerId      0\n",
       "Survived         0\n",
       "Pclass           0\n",
       "Name             0\n",
       "Sex              0\n",
       "Age            177\n",
       "SibSp            0\n",
       "Parch            0\n",
       "Ticket           0\n",
       "Fare             0\n",
       "Cabin          687\n",
       "Embarked         2\n",
       "dtype: int64"
      ]
     },
     "execution_count": 7,
     "metadata": {},
     "output_type": "execute_result"
    }
   ],
   "source": [
    "data.isna().sum()"
   ]
  },
  {
   "cell_type": "markdown",
   "id": "0e5b8669",
   "metadata": {},
   "source": [
    " "
   ]
  },
  {
   "cell_type": "markdown",
   "id": "3f81370c",
   "metadata": {},
   "source": [
    "We will first begin to correct the data present in the \"Age\" column.  Although a sizeable amount of data is null (slightly above 20%), this is a far too important data column to remove. \n",
    "\n",
    "We can see from the below graph that the data if fairly normally distributed (though it does skew towards higher ages which is expected).  Both the median and the mean are relatively similar values."
   ]
  },
  {
   "cell_type": "code",
   "execution_count": 8,
   "id": "23f81ea0",
   "metadata": {},
   "outputs": [
    {
     "data": {
      "image/png": "[encoded data removed]",
      "text/plain": [
       "<Figure size 432x288 with 1 Axes>"
      ]
     },
     "metadata": {
      "needs_background": "light"
     },
     "output_type": "display_data"
    },
    {
     "name": "stdout",
     "output_type": "stream",
     "text": [
      "Mean = 29.69911764705882\n",
      "Median = 28.0\n"
     ]
    }
   ],
   "source": [
    "data[\"Age\"].hist()\n",
    "plt.title(\"Age\")\n",
    "plt.show()\n",
    "\n",
    "print(\"Mean = \" + str(data[\"Age\"].mean()))\n",
    "print(\"Median = \" + str(data[\"Age\"].median()))"
   ]
  },
  {
   "cell_type": "markdown",
   "id": "d74fedfd",
   "metadata": {},
   "source": [
    " "
   ]
  },
  {
   "cell_type": "markdown",
   "id": "309336c3",
   "metadata": {},
   "source": [
    "The mean value is used to fill in the missing data in the \"Age\" column (though median would have been perfectly appropriate too in this scenario).  "
   ]
  },
  {
   "cell_type": "code",
   "execution_count": 9,
   "id": "48d5b7c8",
   "metadata": {},
   "outputs": [
    {
     "data": {
      "text/plain": [
       "PassengerId      0\n",
       "Survived         0\n",
       "Pclass           0\n",
       "Name             0\n",
       "Sex              0\n",
       "Age              0\n",
       "SibSp            0\n",
       "Parch            0\n",
       "Ticket           0\n",
       "Fare             0\n",
       "Cabin          687\n",
       "Embarked         2\n",
       "dtype: int64"
      ]
     },
     "execution_count": 9,
     "metadata": {},
     "output_type": "execute_result"
    }
   ],
   "source": [
    "data[\"Age\"].fillna(data[\"Age\"].mean(), inplace=True)\n",
    "\n",
    "data.isna().sum()"
   ]
  },
  {
   "cell_type": "markdown",
   "id": "408d3a40",
   "metadata": {},
   "source": [
    " "
   ]
  },
  {
   "cell_type": "markdown",
   "id": "ef779776",
   "metadata": {},
   "source": [
    "We will next look to correct the missing value in the \"Embarked\" column. We could simply decide to drop those two frames.  However before making this decision, let us examine the numbers."
   ]
  },
  {
   "cell_type": "code",
   "execution_count": 10,
   "id": "bcb27e22",
   "metadata": {},
   "outputs": [
    {
     "data": {
      "text/plain": [
       "S    644\n",
       "C    168\n",
       "Q     77\n",
       "Name: Embarked, dtype: int64"
      ]
     },
     "execution_count": 10,
     "metadata": {},
     "output_type": "execute_result"
    }
   ],
   "source": [
    "data[\"Embarked\"].value_counts()"
   ]
  },
  {
   "cell_type": "markdown",
   "id": "9fe4882b",
   "metadata": {},
   "source": [
    " "
   ]
  },
  {
   "cell_type": "markdown",
   "id": "dc51de4b",
   "metadata": {},
   "source": [
    "Given the overwhelming majority of passengers boarded in Southampton, it is safe to assume that the two individuals most likely boarded there too."
   ]
  },
  {
   "cell_type": "code",
   "execution_count": 11,
   "id": "9c9ce056",
   "metadata": {},
   "outputs": [
    {
     "data": {
      "text/plain": [
       "PassengerId      0\n",
       "Survived         0\n",
       "Pclass           0\n",
       "Name             0\n",
       "Sex              0\n",
       "Age              0\n",
       "SibSp            0\n",
       "Parch            0\n",
       "Ticket           0\n",
       "Fare             0\n",
       "Cabin          687\n",
       "Embarked         0\n",
       "dtype: int64"
      ]
     },
     "execution_count": 11,
     "metadata": {},
     "output_type": "execute_result"
    }
   ],
   "source": [
    "data['Embarked'].fillna(\"S\", inplace=True)\n",
    "\n",
    "data.isna().sum()"
   ]
  },
  {
   "cell_type": "markdown",
   "id": "5333b3e8",
   "metadata": {},
   "source": [
    " "
   ]
  },
  {
   "cell_type": "markdown",
   "id": "356b4f2c",
   "metadata": {},
   "source": [
    "We must now consider the cabin data.  Displayed below are the various assignments.  \n",
    "\n",
    "Each cabin number begins with the deck level.  Access to the various decks, both for accomadations and leisure, were based on the class of ticket purchased.  "
   ]
  },
  {
   "cell_type": "code",
   "execution_count": 12,
   "id": "36c3b0e6",
   "metadata": {},
   "outputs": [
    {
     "data": {
      "text/plain": [
       "array([nan, 'C85', 'C123', 'E46', 'G6', 'C103', 'D56', 'A6',\n",
       "       'C23 C25 C27', 'B78', 'D33', 'B30', 'C52', 'B28', 'C83', 'F33',\n",
       "       'F G73', 'E31', 'A5', 'D10 D12', 'D26', 'C110', 'B58 B60', 'E101',\n",
       "       'F E69', 'D47', 'B86', 'F2', 'C2', 'E33', 'B19', 'A7', 'C49', 'F4',\n",
       "       'A32', 'B4', 'B80', 'A31', 'D36', 'D15', 'C93', 'C78', 'D35',\n",
       "       'C87', 'B77', 'E67', 'B94', 'C125', 'C99', 'C118', 'D7', 'A19',\n",
       "       'B49', 'D', 'C22 C26', 'C106', 'C65', 'E36', 'C54',\n",
       "       'B57 B59 B63 B66', 'C7', 'E34', 'C32', 'B18', 'C124', 'C91', 'E40',\n",
       "       'T', 'C128', 'D37', 'B35', 'E50', 'C82', 'B96 B98', 'E10', 'E44',\n",
       "       'A34', 'C104', 'C111', 'C92', 'E38', 'D21', 'E12', 'E63', 'A14',\n",
       "       'B37', 'C30', 'D20', 'B79', 'E25', 'D46', 'B73', 'C95', 'B38',\n",
       "       'B39', 'B22', 'C86', 'C70', 'A16', 'C101', 'C68', 'A10', 'E68',\n",
       "       'B41', 'A20', 'D19', 'D50', 'D9', 'A23', 'B50', 'A26', 'D48',\n",
       "       'E58', 'C126', 'B71', 'B51 B53 B55', 'D49', 'B5', 'B20', 'F G63',\n",
       "       'C62 C64', 'E24', 'C90', 'C45', 'E8', 'B101', 'D45', 'C46', 'D30',\n",
       "       'E121', 'D11', 'E77', 'F38', 'B3', 'D6', 'B82 B84', 'D17', 'A36',\n",
       "       'B102', 'B69', 'E49', 'C47', 'D28', 'E17', 'A24', 'C50', 'B42',\n",
       "       'C148'], dtype=object)"
      ]
     },
     "execution_count": 12,
     "metadata": {},
     "output_type": "execute_result"
    }
   ],
   "source": [
    "data.Cabin.unique()"
   ]
  },
  {
   "cell_type": "markdown",
   "id": "e2296d2f",
   "metadata": {},
   "source": [
    "The below table describes each level as well as which class of passenger would have rooms or access to leisure facilities.\n",
    "\n",
    "| Deck | Room Access  | Leisure Areas  |\n",
    "| -----| ------------ | -------------- |\n",
    "| A    | 1            | 1              | \n",
    "| B    | 1            | 1, 2           |\n",
    "| C    | 1, 3         | 1, 2, 3        | \n",
    "| D    | 1, 2, 3      | 1, 2, 3        | \n",
    "| E    | 1, 2, 3      | 3              | \n",
    "| F    | 2, 3         | 1, 2           | \n",
    "| G    | 2, 3         | 1, 2           | \n",
    "\n",
    "Source:\n",
    "https://jamescameronstitanic.fandom.com/wiki/Titanic_Decks"
   ]
  },
  {
   "cell_type": "markdown",
   "id": "add90c2f",
   "metadata": {},
   "source": [
    "For a visual diagram of the deck layout please see the below link:\n",
    "\n",
    "<img src=\"img/Titanic_diagram.png\" width=400 height=400 />\n",
    "\n",
    "Source:\n",
    "https://en.wikipedia.org/wiki/First-class_facilities_of_the_Titanic#/media/File:Olympic_&_Titanic_cutaway_diagram.png"
   ]
  },
  {
   "cell_type": "markdown",
   "id": "a29134da",
   "metadata": {},
   "source": [
    " "
   ]
  },
  {
   "cell_type": "markdown",
   "id": "b87059ba",
   "metadata": {},
   "source": [
    "This information could be quite useful.  However, approximately 78% of the entries in this column are null values.  \n",
    "\n",
    "Let us look at the statistics for the amount of actual cabin information versus null information based on \"Pclass\" data."
   ]
  },
  {
   "cell_type": "code",
   "execution_count": 13,
   "id": "79692cb4",
   "metadata": {},
   "outputs": [
    {
     "data": {
      "text/plain": [
       "3    479\n",
       "2    168\n",
       "1     40\n",
       "Name: Pclass, dtype: int64"
      ]
     },
     "execution_count": 13,
     "metadata": {},
     "output_type": "execute_result"
    }
   ],
   "source": [
    "cabin_count_NA = data.loc[data['Cabin'].isna()]\n",
    "cabin_count_NA[\"Pclass\"].value_counts()"
   ]
  },
  {
   "cell_type": "code",
   "execution_count": 14,
   "id": "cb4e7980",
   "metadata": {},
   "outputs": [
    {
     "data": {
      "text/plain": [
       "1    176\n",
       "2     16\n",
       "3     12\n",
       "Name: Pclass, dtype: int64"
      ]
     },
     "execution_count": 14,
     "metadata": {},
     "output_type": "execute_result"
    }
   ],
   "source": [
    "cabin_count = data.loc[data['Cabin'].notna()]\n",
    "cabin_count[\"Pclass\"].value_counts()"
   ]
  },
  {
   "cell_type": "markdown",
   "id": "528cda9d",
   "metadata": {},
   "source": [
    " "
   ]
  },
  {
   "cell_type": "markdown",
   "id": "1fea6f43",
   "metadata": {},
   "source": [
    "Missing \"Cabin\" data is highly skewed towards 2nd and 3rd class passengers.  Although interesting, there is simply to much missing data.  Given what we know about the ship layout as well as deck access, we will drop this column in favour of using ticket class information.  \n",
    "\n",
    "Note that this is actual an important area of current research in regards to the Titanic.  Maybe in a future study this data will be more reliable."
   ]
  },
  {
   "cell_type": "code",
   "execution_count": 15,
   "id": "7b6b09cc",
   "metadata": {},
   "outputs": [
    {
     "data": {
      "text/html": [
       "<div>\n",
       "<style scoped>\n",
       "    .dataframe tbody tr th:only-of-type {\n",
       "        vertical-align: middle;\n",
       "    }\n",
       "\n",
       "    .dataframe tbody tr th {\n",
       "        vertical-align: top;\n",
       "    }\n",
       "\n",
       "    .dataframe thead th {\n",
       "        text-align: right;\n",
       "    }\n",
       "</style>\n",
       "<table border=\"1\" class=\"dataframe\">\n",
       "  <thead>\n",
       "    <tr style=\"text-align: right;\">\n",
       "      <th></th>\n",
       "      <th>PassengerId</th>\n",
       "      <th>Survived</th>\n",
       "      <th>Pclass</th>\n",
       "      <th>Name</th>\n",
       "      <th>Sex</th>\n",
       "      <th>Age</th>\n",
       "      <th>SibSp</th>\n",
       "      <th>Parch</th>\n",
       "      <th>Ticket</th>\n",
       "      <th>Fare</th>\n",
       "      <th>Embarked</th>\n",
       "    </tr>\n",
       "  </thead>\n",
       "  <tbody>\n",
       "    <tr>\n",
       "      <th>0</th>\n",
       "      <td>1</td>\n",
       "      <td>0</td>\n",
       "      <td>3</td>\n",
       "      <td>Braund, Mr. Owen Harris</td>\n",
       "      <td>male</td>\n",
       "      <td>22.000000</td>\n",
       "      <td>1</td>\n",
       "      <td>0</td>\n",
       "      <td>A/5 21171</td>\n",
       "      <td>7.2500</td>\n",
       "      <td>S</td>\n",
       "    </tr>\n",
       "    <tr>\n",
       "      <th>1</th>\n",
       "      <td>2</td>\n",
       "      <td>1</td>\n",
       "      <td>1</td>\n",
       "      <td>Cumings, Mrs. John Bradley (Florence Briggs Th...</td>\n",
       "      <td>female</td>\n",
       "      <td>38.000000</td>\n",
       "      <td>1</td>\n",
       "      <td>0</td>\n",
       "      <td>PC 17599</td>\n",
       "      <td>71.2833</td>\n",
       "      <td>C</td>\n",
       "    </tr>\n",
       "    <tr>\n",
       "      <th>2</th>\n",
       "      <td>3</td>\n",
       "      <td>1</td>\n",
       "      <td>3</td>\n",
       "      <td>Heikkinen, Miss. Laina</td>\n",
       "      <td>female</td>\n",
       "      <td>26.000000</td>\n",
       "      <td>0</td>\n",
       "      <td>0</td>\n",
       "      <td>STON/O2. 3101282</td>\n",
       "      <td>7.9250</td>\n",
       "      <td>S</td>\n",
       "    </tr>\n",
       "    <tr>\n",
       "      <th>3</th>\n",
       "      <td>4</td>\n",
       "      <td>1</td>\n",
       "      <td>1</td>\n",
       "      <td>Futrelle, Mrs. Jacques Heath (Lily May Peel)</td>\n",
       "      <td>female</td>\n",
       "      <td>35.000000</td>\n",
       "      <td>1</td>\n",
       "      <td>0</td>\n",
       "      <td>113803</td>\n",
       "      <td>53.1000</td>\n",
       "      <td>S</td>\n",
       "    </tr>\n",
       "    <tr>\n",
       "      <th>4</th>\n",
       "      <td>5</td>\n",
       "      <td>0</td>\n",
       "      <td>3</td>\n",
       "      <td>Allen, Mr. William Henry</td>\n",
       "      <td>male</td>\n",
       "      <td>35.000000</td>\n",
       "      <td>0</td>\n",
       "      <td>0</td>\n",
       "      <td>373450</td>\n",
       "      <td>8.0500</td>\n",
       "      <td>S</td>\n",
       "    </tr>\n",
       "    <tr>\n",
       "      <th>...</th>\n",
       "      <td>...</td>\n",
       "      <td>...</td>\n",
       "      <td>...</td>\n",
       "      <td>...</td>\n",
       "      <td>...</td>\n",
       "      <td>...</td>\n",
       "      <td>...</td>\n",
       "      <td>...</td>\n",
       "      <td>...</td>\n",
       "      <td>...</td>\n",
       "      <td>...</td>\n",
       "    </tr>\n",
       "    <tr>\n",
       "      <th>886</th>\n",
       "      <td>887</td>\n",
       "      <td>0</td>\n",
       "      <td>2</td>\n",
       "      <td>Montvila, Rev. Juozas</td>\n",
       "      <td>male</td>\n",
       "      <td>27.000000</td>\n",
       "      <td>0</td>\n",
       "      <td>0</td>\n",
       "      <td>211536</td>\n",
       "      <td>13.0000</td>\n",
       "      <td>S</td>\n",
       "    </tr>\n",
       "    <tr>\n",
       "      <th>887</th>\n",
       "      <td>888</td>\n",
       "      <td>1</td>\n",
       "      <td>1</td>\n",
       "      <td>Graham, Miss. Margaret Edith</td>\n",
       "      <td>female</td>\n",
       "      <td>19.000000</td>\n",
       "      <td>0</td>\n",
       "      <td>0</td>\n",
       "      <td>112053</td>\n",
       "      <td>30.0000</td>\n",
       "      <td>S</td>\n",
       "    </tr>\n",
       "    <tr>\n",
       "      <th>888</th>\n",
       "      <td>889</td>\n",
       "      <td>0</td>\n",
       "      <td>3</td>\n",
       "      <td>Johnston, Miss. Catherine Helen \"Carrie\"</td>\n",
       "      <td>female</td>\n",
       "      <td>29.699118</td>\n",
       "      <td>1</td>\n",
       "      <td>2</td>\n",
       "      <td>W./C. 6607</td>\n",
       "      <td>23.4500</td>\n",
       "      <td>S</td>\n",
       "    </tr>\n",
       "    <tr>\n",
       "      <th>889</th>\n",
       "      <td>890</td>\n",
       "      <td>1</td>\n",
       "      <td>1</td>\n",
       "      <td>Behr, Mr. Karl Howell</td>\n",
       "      <td>male</td>\n",
       "      <td>26.000000</td>\n",
       "      <td>0</td>\n",
       "      <td>0</td>\n",
       "      <td>111369</td>\n",
       "      <td>30.0000</td>\n",
       "      <td>C</td>\n",
       "    </tr>\n",
       "    <tr>\n",
       "      <th>890</th>\n",
       "      <td>891</td>\n",
       "      <td>0</td>\n",
       "      <td>3</td>\n",
       "      <td>Dooley, Mr. Patrick</td>\n",
       "      <td>male</td>\n",
       "      <td>32.000000</td>\n",
       "      <td>0</td>\n",
       "      <td>0</td>\n",
       "      <td>370376</td>\n",
       "      <td>7.7500</td>\n",
       "      <td>Q</td>\n",
       "    </tr>\n",
       "  </tbody>\n",
       "</table>\n",
       "<p>891 rows × 11 columns</p>\n",
       "</div>"
      ],
      "text/plain": [
       "     PassengerId  Survived  Pclass  \\\n",
       "0              1         0       3   \n",
       "1              2         1       1   \n",
       "2              3         1       3   \n",
       "3              4         1       1   \n",
       "4              5         0       3   \n",
       "..           ...       ...     ...   \n",
       "886          887         0       2   \n",
       "887          888         1       1   \n",
       "888          889         0       3   \n",
       "889          890         1       1   \n",
       "890          891         0       3   \n",
       "\n",
       "                                                  Name     Sex        Age  \\\n",
       "0                              Braund, Mr. Owen Harris    male  22.000000   \n",
       "1    Cumings, Mrs. John Bradley (Florence Briggs Th...  female  38.000000   \n",
       "2                               Heikkinen, Miss. Laina  female  26.000000   \n",
       "3         Futrelle, Mrs. Jacques Heath (Lily May Peel)  female  35.000000   \n",
       "4                             Allen, Mr. William Henry    male  35.000000   \n",
       "..                                                 ...     ...        ...   \n",
       "886                              Montvila, Rev. Juozas    male  27.000000   \n",
       "887                       Graham, Miss. Margaret Edith  female  19.000000   \n",
       "888           Johnston, Miss. Catherine Helen \"Carrie\"  female  29.699118   \n",
       "889                              Behr, Mr. Karl Howell    male  26.000000   \n",
       "890                                Dooley, Mr. Patrick    male  32.000000   \n",
       "\n",
       "     SibSp  Parch            Ticket     Fare Embarked  \n",
       "0        1      0         A/5 21171   7.2500        S  \n",
       "1        1      0          PC 17599  71.2833        C  \n",
       "2        0      0  STON/O2. 3101282   7.9250        S  \n",
       "3        1      0            113803  53.1000        S  \n",
       "4        0      0            373450   8.0500        S  \n",
       "..     ...    ...               ...      ...      ...  \n",
       "886      0      0            211536  13.0000        S  \n",
       "887      0      0            112053  30.0000        S  \n",
       "888      1      2        W./C. 6607  23.4500        S  \n",
       "889      0      0            111369  30.0000        C  \n",
       "890      0      0            370376   7.7500        Q  \n",
       "\n",
       "[891 rows x 11 columns]"
      ]
     },
     "execution_count": 15,
     "metadata": {},
     "output_type": "execute_result"
    }
   ],
   "source": [
    "data.drop(['Cabin'], axis=1, inplace=True)\n",
    "data"
   ]
  },
  {
   "cell_type": "code",
   "execution_count": 16,
   "id": "b3adf9b3",
   "metadata": {},
   "outputs": [
    {
     "data": {
      "text/plain": [
       "PassengerId    0\n",
       "Survived       0\n",
       "Pclass         0\n",
       "Name           0\n",
       "Sex            0\n",
       "Age            0\n",
       "SibSp          0\n",
       "Parch          0\n",
       "Ticket         0\n",
       "Fare           0\n",
       "Embarked       0\n",
       "dtype: int64"
      ]
     },
     "execution_count": 16,
     "metadata": {},
     "output_type": "execute_result"
    }
   ],
   "source": [
    "data.isna().sum()"
   ]
  },
  {
   "cell_type": "markdown",
   "id": "4c7e5276",
   "metadata": {},
   "source": [
    " "
   ]
  },
  {
   "cell_type": "markdown",
   "id": "84d327cb",
   "metadata": {},
   "source": [
    "We are also going to remove both the \"PassengerId\" and \"Ticket\" column.  We can determine both from the correlation matrix but also from knowledge of the event that these do not provide any useful information for the analysis."
   ]
  },
  {
   "cell_type": "code",
   "execution_count": 17,
   "id": "06e73597",
   "metadata": {},
   "outputs": [
    {
     "data": {
      "text/html": [
       "<div>\n",
       "<style scoped>\n",
       "    .dataframe tbody tr th:only-of-type {\n",
       "        vertical-align: middle;\n",
       "    }\n",
       "\n",
       "    .dataframe tbody tr th {\n",
       "        vertical-align: top;\n",
       "    }\n",
       "\n",
       "    .dataframe thead th {\n",
       "        text-align: right;\n",
       "    }\n",
       "</style>\n",
       "<table border=\"1\" class=\"dataframe\">\n",
       "  <thead>\n",
       "    <tr style=\"text-align: right;\">\n",
       "      <th></th>\n",
       "      <th>PassengerId</th>\n",
       "      <th>Survived</th>\n",
       "      <th>Pclass</th>\n",
       "      <th>Age</th>\n",
       "      <th>SibSp</th>\n",
       "      <th>Parch</th>\n",
       "      <th>Fare</th>\n",
       "    </tr>\n",
       "  </thead>\n",
       "  <tbody>\n",
       "    <tr>\n",
       "      <th>PassengerId</th>\n",
       "      <td>1.000000</td>\n",
       "      <td>-0.005007</td>\n",
       "      <td>-0.035144</td>\n",
       "      <td>0.033207</td>\n",
       "      <td>-0.057527</td>\n",
       "      <td>-0.001652</td>\n",
       "      <td>0.012658</td>\n",
       "    </tr>\n",
       "    <tr>\n",
       "      <th>Survived</th>\n",
       "      <td>-0.005007</td>\n",
       "      <td>1.000000</td>\n",
       "      <td>-0.338481</td>\n",
       "      <td>-0.069809</td>\n",
       "      <td>-0.035322</td>\n",
       "      <td>0.081629</td>\n",
       "      <td>0.257307</td>\n",
       "    </tr>\n",
       "    <tr>\n",
       "      <th>Pclass</th>\n",
       "      <td>-0.035144</td>\n",
       "      <td>-0.338481</td>\n",
       "      <td>1.000000</td>\n",
       "      <td>-0.331339</td>\n",
       "      <td>0.083081</td>\n",
       "      <td>0.018443</td>\n",
       "      <td>-0.549500</td>\n",
       "    </tr>\n",
       "    <tr>\n",
       "      <th>Age</th>\n",
       "      <td>0.033207</td>\n",
       "      <td>-0.069809</td>\n",
       "      <td>-0.331339</td>\n",
       "      <td>1.000000</td>\n",
       "      <td>-0.232625</td>\n",
       "      <td>-0.179191</td>\n",
       "      <td>0.091566</td>\n",
       "    </tr>\n",
       "    <tr>\n",
       "      <th>SibSp</th>\n",
       "      <td>-0.057527</td>\n",
       "      <td>-0.035322</td>\n",
       "      <td>0.083081</td>\n",
       "      <td>-0.232625</td>\n",
       "      <td>1.000000</td>\n",
       "      <td>0.414838</td>\n",
       "      <td>0.159651</td>\n",
       "    </tr>\n",
       "    <tr>\n",
       "      <th>Parch</th>\n",
       "      <td>-0.001652</td>\n",
       "      <td>0.081629</td>\n",
       "      <td>0.018443</td>\n",
       "      <td>-0.179191</td>\n",
       "      <td>0.414838</td>\n",
       "      <td>1.000000</td>\n",
       "      <td>0.216225</td>\n",
       "    </tr>\n",
       "    <tr>\n",
       "      <th>Fare</th>\n",
       "      <td>0.012658</td>\n",
       "      <td>0.257307</td>\n",
       "      <td>-0.549500</td>\n",
       "      <td>0.091566</td>\n",
       "      <td>0.159651</td>\n",
       "      <td>0.216225</td>\n",
       "      <td>1.000000</td>\n",
       "    </tr>\n",
       "  </tbody>\n",
       "</table>\n",
       "</div>"
      ],
      "text/plain": [
       "             PassengerId  Survived    Pclass       Age     SibSp     Parch  \\\n",
       "PassengerId     1.000000 -0.005007 -0.035144  0.033207 -0.057527 -0.001652   \n",
       "Survived       -0.005007  1.000000 -0.338481 -0.069809 -0.035322  0.081629   \n",
       "Pclass         -0.035144 -0.338481  1.000000 -0.331339  0.083081  0.018443   \n",
       "Age             0.033207 -0.069809 -0.331339  1.000000 -0.232625 -0.179191   \n",
       "SibSp          -0.057527 -0.035322  0.083081 -0.232625  1.000000  0.414838   \n",
       "Parch          -0.001652  0.081629  0.018443 -0.179191  0.414838  1.000000   \n",
       "Fare            0.012658  0.257307 -0.549500  0.091566  0.159651  0.216225   \n",
       "\n",
       "                 Fare  \n",
       "PassengerId  0.012658  \n",
       "Survived     0.257307  \n",
       "Pclass      -0.549500  \n",
       "Age          0.091566  \n",
       "SibSp        0.159651  \n",
       "Parch        0.216225  \n",
       "Fare         1.000000  "
      ]
     },
     "execution_count": 17,
     "metadata": {},
     "output_type": "execute_result"
    }
   ],
   "source": [
    "corr1 = data.corr()\n",
    "corr1"
   ]
  },
  {
   "cell_type": "code",
   "execution_count": 18,
   "id": "2c7fe28a",
   "metadata": {},
   "outputs": [
    {
     "data": {
      "text/html": [
       "<div>\n",
       "<style scoped>\n",
       "    .dataframe tbody tr th:only-of-type {\n",
       "        vertical-align: middle;\n",
       "    }\n",
       "\n",
       "    .dataframe tbody tr th {\n",
       "        vertical-align: top;\n",
       "    }\n",
       "\n",
       "    .dataframe thead th {\n",
       "        text-align: right;\n",
       "    }\n",
       "</style>\n",
       "<table border=\"1\" class=\"dataframe\">\n",
       "  <thead>\n",
       "    <tr style=\"text-align: right;\">\n",
       "      <th></th>\n",
       "      <th>Survived</th>\n",
       "      <th>Pclass</th>\n",
       "      <th>Name</th>\n",
       "      <th>Sex</th>\n",
       "      <th>Age</th>\n",
       "      <th>SibSp</th>\n",
       "      <th>Parch</th>\n",
       "      <th>Fare</th>\n",
       "      <th>Embarked</th>\n",
       "    </tr>\n",
       "  </thead>\n",
       "  <tbody>\n",
       "    <tr>\n",
       "      <th>0</th>\n",
       "      <td>0</td>\n",
       "      <td>3</td>\n",
       "      <td>Braund, Mr. Owen Harris</td>\n",
       "      <td>male</td>\n",
       "      <td>22.000000</td>\n",
       "      <td>1</td>\n",
       "      <td>0</td>\n",
       "      <td>7.2500</td>\n",
       "      <td>S</td>\n",
       "    </tr>\n",
       "    <tr>\n",
       "      <th>1</th>\n",
       "      <td>1</td>\n",
       "      <td>1</td>\n",
       "      <td>Cumings, Mrs. John Bradley (Florence Briggs Th...</td>\n",
       "      <td>female</td>\n",
       "      <td>38.000000</td>\n",
       "      <td>1</td>\n",
       "      <td>0</td>\n",
       "      <td>71.2833</td>\n",
       "      <td>C</td>\n",
       "    </tr>\n",
       "    <tr>\n",
       "      <th>2</th>\n",
       "      <td>1</td>\n",
       "      <td>3</td>\n",
       "      <td>Heikkinen, Miss. Laina</td>\n",
       "      <td>female</td>\n",
       "      <td>26.000000</td>\n",
       "      <td>0</td>\n",
       "      <td>0</td>\n",
       "      <td>7.9250</td>\n",
       "      <td>S</td>\n",
       "    </tr>\n",
       "    <tr>\n",
       "      <th>3</th>\n",
       "      <td>1</td>\n",
       "      <td>1</td>\n",
       "      <td>Futrelle, Mrs. Jacques Heath (Lily May Peel)</td>\n",
       "      <td>female</td>\n",
       "      <td>35.000000</td>\n",
       "      <td>1</td>\n",
       "      <td>0</td>\n",
       "      <td>53.1000</td>\n",
       "      <td>S</td>\n",
       "    </tr>\n",
       "    <tr>\n",
       "      <th>4</th>\n",
       "      <td>0</td>\n",
       "      <td>3</td>\n",
       "      <td>Allen, Mr. William Henry</td>\n",
       "      <td>male</td>\n",
       "      <td>35.000000</td>\n",
       "      <td>0</td>\n",
       "      <td>0</td>\n",
       "      <td>8.0500</td>\n",
       "      <td>S</td>\n",
       "    </tr>\n",
       "    <tr>\n",
       "      <th>...</th>\n",
       "      <td>...</td>\n",
       "      <td>...</td>\n",
       "      <td>...</td>\n",
       "      <td>...</td>\n",
       "      <td>...</td>\n",
       "      <td>...</td>\n",
       "      <td>...</td>\n",
       "      <td>...</td>\n",
       "      <td>...</td>\n",
       "    </tr>\n",
       "    <tr>\n",
       "      <th>886</th>\n",
       "      <td>0</td>\n",
       "      <td>2</td>\n",
       "      <td>Montvila, Rev. Juozas</td>\n",
       "      <td>male</td>\n",
       "      <td>27.000000</td>\n",
       "      <td>0</td>\n",
       "      <td>0</td>\n",
       "      <td>13.0000</td>\n",
       "      <td>S</td>\n",
       "    </tr>\n",
       "    <tr>\n",
       "      <th>887</th>\n",
       "      <td>1</td>\n",
       "      <td>1</td>\n",
       "      <td>Graham, Miss. Margaret Edith</td>\n",
       "      <td>female</td>\n",
       "      <td>19.000000</td>\n",
       "      <td>0</td>\n",
       "      <td>0</td>\n",
       "      <td>30.0000</td>\n",
       "      <td>S</td>\n",
       "    </tr>\n",
       "    <tr>\n",
       "      <th>888</th>\n",
       "      <td>0</td>\n",
       "      <td>3</td>\n",
       "      <td>Johnston, Miss. Catherine Helen \"Carrie\"</td>\n",
       "      <td>female</td>\n",
       "      <td>29.699118</td>\n",
       "      <td>1</td>\n",
       "      <td>2</td>\n",
       "      <td>23.4500</td>\n",
       "      <td>S</td>\n",
       "    </tr>\n",
       "    <tr>\n",
       "      <th>889</th>\n",
       "      <td>1</td>\n",
       "      <td>1</td>\n",
       "      <td>Behr, Mr. Karl Howell</td>\n",
       "      <td>male</td>\n",
       "      <td>26.000000</td>\n",
       "      <td>0</td>\n",
       "      <td>0</td>\n",
       "      <td>30.0000</td>\n",
       "      <td>C</td>\n",
       "    </tr>\n",
       "    <tr>\n",
       "      <th>890</th>\n",
       "      <td>0</td>\n",
       "      <td>3</td>\n",
       "      <td>Dooley, Mr. Patrick</td>\n",
       "      <td>male</td>\n",
       "      <td>32.000000</td>\n",
       "      <td>0</td>\n",
       "      <td>0</td>\n",
       "      <td>7.7500</td>\n",
       "      <td>Q</td>\n",
       "    </tr>\n",
       "  </tbody>\n",
       "</table>\n",
       "<p>891 rows × 9 columns</p>\n",
       "</div>"
      ],
      "text/plain": [
       "     Survived  Pclass                                               Name  \\\n",
       "0           0       3                            Braund, Mr. Owen Harris   \n",
       "1           1       1  Cumings, Mrs. John Bradley (Florence Briggs Th...   \n",
       "2           1       3                             Heikkinen, Miss. Laina   \n",
       "3           1       1       Futrelle, Mrs. Jacques Heath (Lily May Peel)   \n",
       "4           0       3                           Allen, Mr. William Henry   \n",
       "..        ...     ...                                                ...   \n",
       "886         0       2                              Montvila, Rev. Juozas   \n",
       "887         1       1                       Graham, Miss. Margaret Edith   \n",
       "888         0       3           Johnston, Miss. Catherine Helen \"Carrie\"   \n",
       "889         1       1                              Behr, Mr. Karl Howell   \n",
       "890         0       3                                Dooley, Mr. Patrick   \n",
       "\n",
       "        Sex        Age  SibSp  Parch     Fare Embarked  \n",
       "0      male  22.000000      1      0   7.2500        S  \n",
       "1    female  38.000000      1      0  71.2833        C  \n",
       "2    female  26.000000      0      0   7.9250        S  \n",
       "3    female  35.000000      1      0  53.1000        S  \n",
       "4      male  35.000000      0      0   8.0500        S  \n",
       "..      ...        ...    ...    ...      ...      ...  \n",
       "886    male  27.000000      0      0  13.0000        S  \n",
       "887  female  19.000000      0      0  30.0000        S  \n",
       "888  female  29.699118      1      2  23.4500        S  \n",
       "889    male  26.000000      0      0  30.0000        C  \n",
       "890    male  32.000000      0      0   7.7500        Q  \n",
       "\n",
       "[891 rows x 9 columns]"
      ]
     },
     "execution_count": 18,
     "metadata": {},
     "output_type": "execute_result"
    }
   ],
   "source": [
    "data.drop(['PassengerId', 'Ticket'], axis=1, inplace=True)\n",
    "data"
   ]
  },
  {
   "cell_type": "markdown",
   "id": "55a222ae",
   "metadata": {},
   "source": [
    " "
   ]
  },
  {
   "cell_type": "markdown",
   "id": "327369d5",
   "metadata": {},
   "source": [
    "We will now convert categorical variables into numerical to assist in the analysis.  \n",
    "\n",
    "To start, we will convert the \"Sex\" column.  Since this is a binary choice, we will encode to a single column so that male is 1 and female is 0."
   ]
  },
  {
   "cell_type": "code",
   "execution_count": 19,
   "id": "69327775",
   "metadata": {},
   "outputs": [],
   "source": [
    "#data['Sex'].replace(['male', 'female'], [1, 0], inplace=True)\n",
    "data = pd.get_dummies(data, columns=[\"Sex\"], drop_first=True)"
   ]
  },
  {
   "cell_type": "markdown",
   "id": "ed14f20c",
   "metadata": {},
   "source": [
    " "
   ]
  },
  {
   "cell_type": "markdown",
   "id": "68d54d0c",
   "metadata": {},
   "source": [
    "We will next one-hot encode the \"Embarked\" column."
   ]
  },
  {
   "cell_type": "code",
   "execution_count": 20,
   "id": "042fc017",
   "metadata": {},
   "outputs": [
    {
     "data": {
      "text/html": [
       "<div>\n",
       "<style scoped>\n",
       "    .dataframe tbody tr th:only-of-type {\n",
       "        vertical-align: middle;\n",
       "    }\n",
       "\n",
       "    .dataframe tbody tr th {\n",
       "        vertical-align: top;\n",
       "    }\n",
       "\n",
       "    .dataframe thead th {\n",
       "        text-align: right;\n",
       "    }\n",
       "</style>\n",
       "<table border=\"1\" class=\"dataframe\">\n",
       "  <thead>\n",
       "    <tr style=\"text-align: right;\">\n",
       "      <th></th>\n",
       "      <th>Survived</th>\n",
       "      <th>Pclass</th>\n",
       "      <th>Name</th>\n",
       "      <th>Age</th>\n",
       "      <th>SibSp</th>\n",
       "      <th>Parch</th>\n",
       "      <th>Fare</th>\n",
       "      <th>Sex_male</th>\n",
       "      <th>Embarked_C</th>\n",
       "      <th>Embarked_Q</th>\n",
       "      <th>Embarked_S</th>\n",
       "    </tr>\n",
       "  </thead>\n",
       "  <tbody>\n",
       "    <tr>\n",
       "      <th>0</th>\n",
       "      <td>0</td>\n",
       "      <td>3</td>\n",
       "      <td>Braund, Mr. Owen Harris</td>\n",
       "      <td>22.0</td>\n",
       "      <td>1</td>\n",
       "      <td>0</td>\n",
       "      <td>7.2500</td>\n",
       "      <td>1</td>\n",
       "      <td>0</td>\n",
       "      <td>0</td>\n",
       "      <td>1</td>\n",
       "    </tr>\n",
       "    <tr>\n",
       "      <th>1</th>\n",
       "      <td>1</td>\n",
       "      <td>1</td>\n",
       "      <td>Cumings, Mrs. John Bradley (Florence Briggs Th...</td>\n",
       "      <td>38.0</td>\n",
       "      <td>1</td>\n",
       "      <td>0</td>\n",
       "      <td>71.2833</td>\n",
       "      <td>0</td>\n",
       "      <td>1</td>\n",
       "      <td>0</td>\n",
       "      <td>0</td>\n",
       "    </tr>\n",
       "    <tr>\n",
       "      <th>2</th>\n",
       "      <td>1</td>\n",
       "      <td>3</td>\n",
       "      <td>Heikkinen, Miss. Laina</td>\n",
       "      <td>26.0</td>\n",
       "      <td>0</td>\n",
       "      <td>0</td>\n",
       "      <td>7.9250</td>\n",
       "      <td>0</td>\n",
       "      <td>0</td>\n",
       "      <td>0</td>\n",
       "      <td>1</td>\n",
       "    </tr>\n",
       "    <tr>\n",
       "      <th>3</th>\n",
       "      <td>1</td>\n",
       "      <td>1</td>\n",
       "      <td>Futrelle, Mrs. Jacques Heath (Lily May Peel)</td>\n",
       "      <td>35.0</td>\n",
       "      <td>1</td>\n",
       "      <td>0</td>\n",
       "      <td>53.1000</td>\n",
       "      <td>0</td>\n",
       "      <td>0</td>\n",
       "      <td>0</td>\n",
       "      <td>1</td>\n",
       "    </tr>\n",
       "    <tr>\n",
       "      <th>4</th>\n",
       "      <td>0</td>\n",
       "      <td>3</td>\n",
       "      <td>Allen, Mr. William Henry</td>\n",
       "      <td>35.0</td>\n",
       "      <td>0</td>\n",
       "      <td>0</td>\n",
       "      <td>8.0500</td>\n",
       "      <td>1</td>\n",
       "      <td>0</td>\n",
       "      <td>0</td>\n",
       "      <td>1</td>\n",
       "    </tr>\n",
       "  </tbody>\n",
       "</table>\n",
       "</div>"
      ],
      "text/plain": [
       "   Survived  Pclass                                               Name   Age  \\\n",
       "0         0       3                            Braund, Mr. Owen Harris  22.0   \n",
       "1         1       1  Cumings, Mrs. John Bradley (Florence Briggs Th...  38.0   \n",
       "2         1       3                             Heikkinen, Miss. Laina  26.0   \n",
       "3         1       1       Futrelle, Mrs. Jacques Heath (Lily May Peel)  35.0   \n",
       "4         0       3                           Allen, Mr. William Henry  35.0   \n",
       "\n",
       "   SibSp  Parch     Fare  Sex_male  Embarked_C  Embarked_Q  Embarked_S  \n",
       "0      1      0   7.2500         1           0           0           1  \n",
       "1      1      0  71.2833         0           1           0           0  \n",
       "2      0      0   7.9250         0           0           0           1  \n",
       "3      1      0  53.1000         0           0           0           1  \n",
       "4      0      0   8.0500         1           0           0           1  "
      ]
     },
     "execution_count": 20,
     "metadata": {},
     "output_type": "execute_result"
    }
   ],
   "source": [
    "#data['Embarked'].replace(['C', 'Q', 'S'], [0, 1, 2], inplace=True)\n",
    "data = pd.get_dummies(data, columns=[\"Embarked\"])\n",
    "\n",
    "data.head()"
   ]
  },
  {
   "cell_type": "markdown",
   "id": "4595ab1a",
   "metadata": {},
   "source": [
    " "
   ]
  },
  {
   "cell_type": "markdown",
   "id": "f6f5001f",
   "metadata": {},
   "source": [
    "Although at first glance numerical, the \"Pclass\" column is really a categorical column that uses numbers to categorize. To better model the data, let us encode this data as well."
   ]
  },
  {
   "cell_type": "code",
   "execution_count": 21,
   "id": "8ab67208",
   "metadata": {},
   "outputs": [
    {
     "data": {
      "text/html": [
       "<div>\n",
       "<style scoped>\n",
       "    .dataframe tbody tr th:only-of-type {\n",
       "        vertical-align: middle;\n",
       "    }\n",
       "\n",
       "    .dataframe tbody tr th {\n",
       "        vertical-align: top;\n",
       "    }\n",
       "\n",
       "    .dataframe thead th {\n",
       "        text-align: right;\n",
       "    }\n",
       "</style>\n",
       "<table border=\"1\" class=\"dataframe\">\n",
       "  <thead>\n",
       "    <tr style=\"text-align: right;\">\n",
       "      <th></th>\n",
       "      <th>Survived</th>\n",
       "      <th>Name</th>\n",
       "      <th>Age</th>\n",
       "      <th>SibSp</th>\n",
       "      <th>Parch</th>\n",
       "      <th>Fare</th>\n",
       "      <th>Sex_male</th>\n",
       "      <th>Embarked_C</th>\n",
       "      <th>Embarked_Q</th>\n",
       "      <th>Embarked_S</th>\n",
       "      <th>Pclass_1</th>\n",
       "      <th>Pclass_2</th>\n",
       "      <th>Pclass_3</th>\n",
       "    </tr>\n",
       "  </thead>\n",
       "  <tbody>\n",
       "    <tr>\n",
       "      <th>0</th>\n",
       "      <td>0</td>\n",
       "      <td>Braund, Mr. Owen Harris</td>\n",
       "      <td>22.0</td>\n",
       "      <td>1</td>\n",
       "      <td>0</td>\n",
       "      <td>7.2500</td>\n",
       "      <td>1</td>\n",
       "      <td>0</td>\n",
       "      <td>0</td>\n",
       "      <td>1</td>\n",
       "      <td>0</td>\n",
       "      <td>0</td>\n",
       "      <td>1</td>\n",
       "    </tr>\n",
       "    <tr>\n",
       "      <th>1</th>\n",
       "      <td>1</td>\n",
       "      <td>Cumings, Mrs. John Bradley (Florence Briggs Th...</td>\n",
       "      <td>38.0</td>\n",
       "      <td>1</td>\n",
       "      <td>0</td>\n",
       "      <td>71.2833</td>\n",
       "      <td>0</td>\n",
       "      <td>1</td>\n",
       "      <td>0</td>\n",
       "      <td>0</td>\n",
       "      <td>1</td>\n",
       "      <td>0</td>\n",
       "      <td>0</td>\n",
       "    </tr>\n",
       "    <tr>\n",
       "      <th>2</th>\n",
       "      <td>1</td>\n",
       "      <td>Heikkinen, Miss. Laina</td>\n",
       "      <td>26.0</td>\n",
       "      <td>0</td>\n",
       "      <td>0</td>\n",
       "      <td>7.9250</td>\n",
       "      <td>0</td>\n",
       "      <td>0</td>\n",
       "      <td>0</td>\n",
       "      <td>1</td>\n",
       "      <td>0</td>\n",
       "      <td>0</td>\n",
       "      <td>1</td>\n",
       "    </tr>\n",
       "    <tr>\n",
       "      <th>3</th>\n",
       "      <td>1</td>\n",
       "      <td>Futrelle, Mrs. Jacques Heath (Lily May Peel)</td>\n",
       "      <td>35.0</td>\n",
       "      <td>1</td>\n",
       "      <td>0</td>\n",
       "      <td>53.1000</td>\n",
       "      <td>0</td>\n",
       "      <td>0</td>\n",
       "      <td>0</td>\n",
       "      <td>1</td>\n",
       "      <td>1</td>\n",
       "      <td>0</td>\n",
       "      <td>0</td>\n",
       "    </tr>\n",
       "    <tr>\n",
       "      <th>4</th>\n",
       "      <td>0</td>\n",
       "      <td>Allen, Mr. William Henry</td>\n",
       "      <td>35.0</td>\n",
       "      <td>0</td>\n",
       "      <td>0</td>\n",
       "      <td>8.0500</td>\n",
       "      <td>1</td>\n",
       "      <td>0</td>\n",
       "      <td>0</td>\n",
       "      <td>1</td>\n",
       "      <td>0</td>\n",
       "      <td>0</td>\n",
       "      <td>1</td>\n",
       "    </tr>\n",
       "  </tbody>\n",
       "</table>\n",
       "</div>"
      ],
      "text/plain": [
       "   Survived                                               Name   Age  SibSp  \\\n",
       "0         0                            Braund, Mr. Owen Harris  22.0      1   \n",
       "1         1  Cumings, Mrs. John Bradley (Florence Briggs Th...  38.0      1   \n",
       "2         1                             Heikkinen, Miss. Laina  26.0      0   \n",
       "3         1       Futrelle, Mrs. Jacques Heath (Lily May Peel)  35.0      1   \n",
       "4         0                           Allen, Mr. William Henry  35.0      0   \n",
       "\n",
       "   Parch     Fare  Sex_male  Embarked_C  Embarked_Q  Embarked_S  Pclass_1  \\\n",
       "0      0   7.2500         1           0           0           1         0   \n",
       "1      0  71.2833         0           1           0           0         1   \n",
       "2      0   7.9250         0           0           0           1         0   \n",
       "3      0  53.1000         0           0           0           1         1   \n",
       "4      0   8.0500         1           0           0           1         0   \n",
       "\n",
       "   Pclass_2  Pclass_3  \n",
       "0         0         1  \n",
       "1         0         0  \n",
       "2         0         1  \n",
       "3         0         0  \n",
       "4         0         1  "
      ]
     },
     "execution_count": 21,
     "metadata": {},
     "output_type": "execute_result"
    }
   ],
   "source": [
    "data = pd.get_dummies(data, columns=[\"Pclass\"])\n",
    "\n",
    "data.head()"
   ]
  },
  {
   "cell_type": "markdown",
   "id": "da59cfff",
   "metadata": {},
   "source": [
    " "
   ]
  },
  {
   "cell_type": "markdown",
   "id": "2ed7a77b",
   "metadata": {},
   "source": [
    "The final step of the data cleaning will consider the \"Name\" data column.  On the surface, this data would not seem overly useful.  However, looking at the title in front of each name may provide some additional useful info."
   ]
  },
  {
   "cell_type": "code",
   "execution_count": 22,
   "id": "d37c89a2",
   "metadata": {},
   "outputs": [
    {
     "data": {
      "text/plain": [
       "Mr              517\n",
       "Miss            182\n",
       "Mrs             125\n",
       "Master           40\n",
       "Dr                7\n",
       "Rev               6\n",
       "Mlle              2\n",
       "Major             2\n",
       "Col               2\n",
       "the Countess      1\n",
       "Capt              1\n",
       "Ms                1\n",
       "Sir               1\n",
       "Lady              1\n",
       "Mme               1\n",
       "Don               1\n",
       "Jonkheer          1\n",
       "Name: 0, dtype: int64"
      ]
     },
     "execution_count": 22,
     "metadata": {},
     "output_type": "execute_result"
    }
   ],
   "source": [
    "data.Name.str.split(',', expand=True)[1].str.split('.', expand=True)[0].str.strip().value_counts()"
   ]
  },
  {
   "cell_type": "markdown",
   "id": "3902de8f",
   "metadata": {},
   "source": [
    " "
   ]
  },
  {
   "cell_type": "markdown",
   "id": "8156f43e",
   "metadata": {},
   "source": [
    "Most of the titles are fairly normal.  However some of the outliers are interesting.  These show that the individual was of of a certain social status (ex: nobility) or perhaps an officer of some type.\n",
    "\n",
    "We are going to make use of this data by assigning individuals to 1 of 3 variables in a new column called \"Status\":\n",
    "\n",
    "1. Nobility\n",
    "2. Officer (note that I include the priesthood and doctors in this designation)\n",
    "3. Civilian"
   ]
  },
  {
   "cell_type": "code",
   "execution_count": 23,
   "id": "727ada65",
   "metadata": {},
   "outputs": [
    {
     "data": {
      "text/html": [
       "<div>\n",
       "<style scoped>\n",
       "    .dataframe tbody tr th:only-of-type {\n",
       "        vertical-align: middle;\n",
       "    }\n",
       "\n",
       "    .dataframe tbody tr th {\n",
       "        vertical-align: top;\n",
       "    }\n",
       "\n",
       "    .dataframe thead th {\n",
       "        text-align: right;\n",
       "    }\n",
       "</style>\n",
       "<table border=\"1\" class=\"dataframe\">\n",
       "  <thead>\n",
       "    <tr style=\"text-align: right;\">\n",
       "      <th></th>\n",
       "      <th>Survived</th>\n",
       "      <th>Name</th>\n",
       "      <th>Age</th>\n",
       "      <th>SibSp</th>\n",
       "      <th>Parch</th>\n",
       "      <th>Fare</th>\n",
       "      <th>Sex_male</th>\n",
       "      <th>Embarked_C</th>\n",
       "      <th>Embarked_Q</th>\n",
       "      <th>Embarked_S</th>\n",
       "      <th>Pclass_1</th>\n",
       "      <th>Pclass_2</th>\n",
       "      <th>Pclass_3</th>\n",
       "      <th>SocStatus</th>\n",
       "    </tr>\n",
       "  </thead>\n",
       "  <tbody>\n",
       "    <tr>\n",
       "      <th>0</th>\n",
       "      <td>0</td>\n",
       "      <td>Braund, Mr. Owen Harris</td>\n",
       "      <td>22.0</td>\n",
       "      <td>1</td>\n",
       "      <td>0</td>\n",
       "      <td>7.2500</td>\n",
       "      <td>1</td>\n",
       "      <td>0</td>\n",
       "      <td>0</td>\n",
       "      <td>1</td>\n",
       "      <td>0</td>\n",
       "      <td>0</td>\n",
       "      <td>1</td>\n",
       "      <td>C</td>\n",
       "    </tr>\n",
       "    <tr>\n",
       "      <th>1</th>\n",
       "      <td>1</td>\n",
       "      <td>Cumings, Mrs. John Bradley (Florence Briggs Th...</td>\n",
       "      <td>38.0</td>\n",
       "      <td>1</td>\n",
       "      <td>0</td>\n",
       "      <td>71.2833</td>\n",
       "      <td>0</td>\n",
       "      <td>1</td>\n",
       "      <td>0</td>\n",
       "      <td>0</td>\n",
       "      <td>1</td>\n",
       "      <td>0</td>\n",
       "      <td>0</td>\n",
       "      <td>C</td>\n",
       "    </tr>\n",
       "    <tr>\n",
       "      <th>2</th>\n",
       "      <td>1</td>\n",
       "      <td>Heikkinen, Miss. Laina</td>\n",
       "      <td>26.0</td>\n",
       "      <td>0</td>\n",
       "      <td>0</td>\n",
       "      <td>7.9250</td>\n",
       "      <td>0</td>\n",
       "      <td>0</td>\n",
       "      <td>0</td>\n",
       "      <td>1</td>\n",
       "      <td>0</td>\n",
       "      <td>0</td>\n",
       "      <td>1</td>\n",
       "      <td>C</td>\n",
       "    </tr>\n",
       "    <tr>\n",
       "      <th>3</th>\n",
       "      <td>1</td>\n",
       "      <td>Futrelle, Mrs. Jacques Heath (Lily May Peel)</td>\n",
       "      <td>35.0</td>\n",
       "      <td>1</td>\n",
       "      <td>0</td>\n",
       "      <td>53.1000</td>\n",
       "      <td>0</td>\n",
       "      <td>0</td>\n",
       "      <td>0</td>\n",
       "      <td>1</td>\n",
       "      <td>1</td>\n",
       "      <td>0</td>\n",
       "      <td>0</td>\n",
       "      <td>C</td>\n",
       "    </tr>\n",
       "    <tr>\n",
       "      <th>4</th>\n",
       "      <td>0</td>\n",
       "      <td>Allen, Mr. William Henry</td>\n",
       "      <td>35.0</td>\n",
       "      <td>0</td>\n",
       "      <td>0</td>\n",
       "      <td>8.0500</td>\n",
       "      <td>1</td>\n",
       "      <td>0</td>\n",
       "      <td>0</td>\n",
       "      <td>1</td>\n",
       "      <td>0</td>\n",
       "      <td>0</td>\n",
       "      <td>1</td>\n",
       "      <td>C</td>\n",
       "    </tr>\n",
       "  </tbody>\n",
       "</table>\n",
       "</div>"
      ],
      "text/plain": [
       "   Survived                                               Name   Age  SibSp  \\\n",
       "0         0                            Braund, Mr. Owen Harris  22.0      1   \n",
       "1         1  Cumings, Mrs. John Bradley (Florence Briggs Th...  38.0      1   \n",
       "2         1                             Heikkinen, Miss. Laina  26.0      0   \n",
       "3         1       Futrelle, Mrs. Jacques Heath (Lily May Peel)  35.0      1   \n",
       "4         0                           Allen, Mr. William Henry  35.0      0   \n",
       "\n",
       "   Parch     Fare  Sex_male  Embarked_C  Embarked_Q  Embarked_S  Pclass_1  \\\n",
       "0      0   7.2500         1           0           0           1         0   \n",
       "1      0  71.2833         0           1           0           0         1   \n",
       "2      0   7.9250         0           0           0           1         0   \n",
       "3      0  53.1000         0           0           0           1         1   \n",
       "4      0   8.0500         1           0           0           1         0   \n",
       "\n",
       "   Pclass_2  Pclass_3 SocStatus  \n",
       "0         0         1         C  \n",
       "1         0         0         C  \n",
       "2         0         1         C  \n",
       "3         0         0         C  \n",
       "4         0         1         C  "
      ]
     },
     "execution_count": 23,
     "metadata": {},
     "output_type": "execute_result"
    }
   ],
   "source": [
    "data['SocStatus'] = data.Name.str.split(',', expand=True)[1].str.split('.', expand=True)[0].str.strip().replace({'Mr': 'C', 'Miss': 'C', 'Mrs': 'C', 'Master': 'C', 'Dr': 'O', 'Rev': 'O', 'Mlle': 'C', 'Major': 'O', 'Col': 'O', 'the Countess': 'N', 'Capt': 'O', 'Ms': 'C', 'Sir': 'N', 'Lady': 'N', 'Mme': 'C', 'Don': 'N', 'Jonkheer': 'N'})\n",
    "\n",
    "data.head()"
   ]
  },
  {
   "cell_type": "markdown",
   "id": "2c14e260",
   "metadata": {},
   "source": [
    " "
   ]
  },
  {
   "cell_type": "markdown",
   "id": "ed688a86",
   "metadata": {},
   "source": [
    "Although this could have been done above, for simplicity sake we will now convert these categorical variables to numerical for better analysis.\n",
    "\n",
    "0 = Nobility (N)\n",
    "1 = Officer (O)\n",
    "2 = Civilian (C)"
   ]
  },
  {
   "cell_type": "code",
   "execution_count": 24,
   "id": "1e06c3a0",
   "metadata": {},
   "outputs": [
    {
     "data": {
      "text/html": [
       "<div>\n",
       "<style scoped>\n",
       "    .dataframe tbody tr th:only-of-type {\n",
       "        vertical-align: middle;\n",
       "    }\n",
       "\n",
       "    .dataframe tbody tr th {\n",
       "        vertical-align: top;\n",
       "    }\n",
       "\n",
       "    .dataframe thead th {\n",
       "        text-align: right;\n",
       "    }\n",
       "</style>\n",
       "<table border=\"1\" class=\"dataframe\">\n",
       "  <thead>\n",
       "    <tr style=\"text-align: right;\">\n",
       "      <th></th>\n",
       "      <th>Survived</th>\n",
       "      <th>Name</th>\n",
       "      <th>Age</th>\n",
       "      <th>SibSp</th>\n",
       "      <th>Parch</th>\n",
       "      <th>Fare</th>\n",
       "      <th>Sex_male</th>\n",
       "      <th>Embarked_C</th>\n",
       "      <th>Embarked_Q</th>\n",
       "      <th>Embarked_S</th>\n",
       "      <th>Pclass_1</th>\n",
       "      <th>Pclass_2</th>\n",
       "      <th>Pclass_3</th>\n",
       "      <th>SocStatus_C</th>\n",
       "      <th>SocStatus_N</th>\n",
       "      <th>SocStatus_O</th>\n",
       "    </tr>\n",
       "  </thead>\n",
       "  <tbody>\n",
       "    <tr>\n",
       "      <th>0</th>\n",
       "      <td>0</td>\n",
       "      <td>Braund, Mr. Owen Harris</td>\n",
       "      <td>22.0</td>\n",
       "      <td>1</td>\n",
       "      <td>0</td>\n",
       "      <td>7.2500</td>\n",
       "      <td>1</td>\n",
       "      <td>0</td>\n",
       "      <td>0</td>\n",
       "      <td>1</td>\n",
       "      <td>0</td>\n",
       "      <td>0</td>\n",
       "      <td>1</td>\n",
       "      <td>1</td>\n",
       "      <td>0</td>\n",
       "      <td>0</td>\n",
       "    </tr>\n",
       "    <tr>\n",
       "      <th>1</th>\n",
       "      <td>1</td>\n",
       "      <td>Cumings, Mrs. John Bradley (Florence Briggs Th...</td>\n",
       "      <td>38.0</td>\n",
       "      <td>1</td>\n",
       "      <td>0</td>\n",
       "      <td>71.2833</td>\n",
       "      <td>0</td>\n",
       "      <td>1</td>\n",
       "      <td>0</td>\n",
       "      <td>0</td>\n",
       "      <td>1</td>\n",
       "      <td>0</td>\n",
       "      <td>0</td>\n",
       "      <td>1</td>\n",
       "      <td>0</td>\n",
       "      <td>0</td>\n",
       "    </tr>\n",
       "    <tr>\n",
       "      <th>2</th>\n",
       "      <td>1</td>\n",
       "      <td>Heikkinen, Miss. Laina</td>\n",
       "      <td>26.0</td>\n",
       "      <td>0</td>\n",
       "      <td>0</td>\n",
       "      <td>7.9250</td>\n",
       "      <td>0</td>\n",
       "      <td>0</td>\n",
       "      <td>0</td>\n",
       "      <td>1</td>\n",
       "      <td>0</td>\n",
       "      <td>0</td>\n",
       "      <td>1</td>\n",
       "      <td>1</td>\n",
       "      <td>0</td>\n",
       "      <td>0</td>\n",
       "    </tr>\n",
       "    <tr>\n",
       "      <th>3</th>\n",
       "      <td>1</td>\n",
       "      <td>Futrelle, Mrs. Jacques Heath (Lily May Peel)</td>\n",
       "      <td>35.0</td>\n",
       "      <td>1</td>\n",
       "      <td>0</td>\n",
       "      <td>53.1000</td>\n",
       "      <td>0</td>\n",
       "      <td>0</td>\n",
       "      <td>0</td>\n",
       "      <td>1</td>\n",
       "      <td>1</td>\n",
       "      <td>0</td>\n",
       "      <td>0</td>\n",
       "      <td>1</td>\n",
       "      <td>0</td>\n",
       "      <td>0</td>\n",
       "    </tr>\n",
       "    <tr>\n",
       "      <th>4</th>\n",
       "      <td>0</td>\n",
       "      <td>Allen, Mr. William Henry</td>\n",
       "      <td>35.0</td>\n",
       "      <td>0</td>\n",
       "      <td>0</td>\n",
       "      <td>8.0500</td>\n",
       "      <td>1</td>\n",
       "      <td>0</td>\n",
       "      <td>0</td>\n",
       "      <td>1</td>\n",
       "      <td>0</td>\n",
       "      <td>0</td>\n",
       "      <td>1</td>\n",
       "      <td>1</td>\n",
       "      <td>0</td>\n",
       "      <td>0</td>\n",
       "    </tr>\n",
       "  </tbody>\n",
       "</table>\n",
       "</div>"
      ],
      "text/plain": [
       "   Survived                                               Name   Age  SibSp  \\\n",
       "0         0                            Braund, Mr. Owen Harris  22.0      1   \n",
       "1         1  Cumings, Mrs. John Bradley (Florence Briggs Th...  38.0      1   \n",
       "2         1                             Heikkinen, Miss. Laina  26.0      0   \n",
       "3         1       Futrelle, Mrs. Jacques Heath (Lily May Peel)  35.0      1   \n",
       "4         0                           Allen, Mr. William Henry  35.0      0   \n",
       "\n",
       "   Parch     Fare  Sex_male  Embarked_C  Embarked_Q  Embarked_S  Pclass_1  \\\n",
       "0      0   7.2500         1           0           0           1         0   \n",
       "1      0  71.2833         0           1           0           0         1   \n",
       "2      0   7.9250         0           0           0           1         0   \n",
       "3      0  53.1000         0           0           0           1         1   \n",
       "4      0   8.0500         1           0           0           1         0   \n",
       "\n",
       "   Pclass_2  Pclass_3  SocStatus_C  SocStatus_N  SocStatus_O  \n",
       "0         0         1            1            0            0  \n",
       "1         0         0            1            0            0  \n",
       "2         0         1            1            0            0  \n",
       "3         0         0            1            0            0  \n",
       "4         0         1            1            0            0  "
      ]
     },
     "execution_count": 24,
     "metadata": {},
     "output_type": "execute_result"
    }
   ],
   "source": [
    "#data['SocStatus'].replace(['N', 'O', 'C'], [0, 1, 2], inplace=True)\n",
    "data = pd.get_dummies(data, columns=[\"SocStatus\"])\n",
    "\n",
    "data.head()"
   ]
  },
  {
   "cell_type": "markdown",
   "id": "d30eb190",
   "metadata": {},
   "source": [
    " "
   ]
  },
  {
   "cell_type": "markdown",
   "id": "ffb8e060",
   "metadata": {},
   "source": [
    "We will now drop the \"Name\" column from the data"
   ]
  },
  {
   "cell_type": "code",
   "execution_count": 25,
   "id": "23819327",
   "metadata": {},
   "outputs": [
    {
     "data": {
      "text/html": [
       "<div>\n",
       "<style scoped>\n",
       "    .dataframe tbody tr th:only-of-type {\n",
       "        vertical-align: middle;\n",
       "    }\n",
       "\n",
       "    .dataframe tbody tr th {\n",
       "        vertical-align: top;\n",
       "    }\n",
       "\n",
       "    .dataframe thead th {\n",
       "        text-align: right;\n",
       "    }\n",
       "</style>\n",
       "<table border=\"1\" class=\"dataframe\">\n",
       "  <thead>\n",
       "    <tr style=\"text-align: right;\">\n",
       "      <th></th>\n",
       "      <th>Survived</th>\n",
       "      <th>Age</th>\n",
       "      <th>SibSp</th>\n",
       "      <th>Parch</th>\n",
       "      <th>Fare</th>\n",
       "      <th>Sex_male</th>\n",
       "      <th>Embarked_C</th>\n",
       "      <th>Embarked_Q</th>\n",
       "      <th>Embarked_S</th>\n",
       "      <th>Pclass_1</th>\n",
       "      <th>Pclass_2</th>\n",
       "      <th>Pclass_3</th>\n",
       "      <th>SocStatus_C</th>\n",
       "      <th>SocStatus_N</th>\n",
       "      <th>SocStatus_O</th>\n",
       "    </tr>\n",
       "  </thead>\n",
       "  <tbody>\n",
       "    <tr>\n",
       "      <th>0</th>\n",
       "      <td>0</td>\n",
       "      <td>22.0</td>\n",
       "      <td>1</td>\n",
       "      <td>0</td>\n",
       "      <td>7.2500</td>\n",
       "      <td>1</td>\n",
       "      <td>0</td>\n",
       "      <td>0</td>\n",
       "      <td>1</td>\n",
       "      <td>0</td>\n",
       "      <td>0</td>\n",
       "      <td>1</td>\n",
       "      <td>1</td>\n",
       "      <td>0</td>\n",
       "      <td>0</td>\n",
       "    </tr>\n",
       "    <tr>\n",
       "      <th>1</th>\n",
       "      <td>1</td>\n",
       "      <td>38.0</td>\n",
       "      <td>1</td>\n",
       "      <td>0</td>\n",
       "      <td>71.2833</td>\n",
       "      <td>0</td>\n",
       "      <td>1</td>\n",
       "      <td>0</td>\n",
       "      <td>0</td>\n",
       "      <td>1</td>\n",
       "      <td>0</td>\n",
       "      <td>0</td>\n",
       "      <td>1</td>\n",
       "      <td>0</td>\n",
       "      <td>0</td>\n",
       "    </tr>\n",
       "    <tr>\n",
       "      <th>2</th>\n",
       "      <td>1</td>\n",
       "      <td>26.0</td>\n",
       "      <td>0</td>\n",
       "      <td>0</td>\n",
       "      <td>7.9250</td>\n",
       "      <td>0</td>\n",
       "      <td>0</td>\n",
       "      <td>0</td>\n",
       "      <td>1</td>\n",
       "      <td>0</td>\n",
       "      <td>0</td>\n",
       "      <td>1</td>\n",
       "      <td>1</td>\n",
       "      <td>0</td>\n",
       "      <td>0</td>\n",
       "    </tr>\n",
       "    <tr>\n",
       "      <th>3</th>\n",
       "      <td>1</td>\n",
       "      <td>35.0</td>\n",
       "      <td>1</td>\n",
       "      <td>0</td>\n",
       "      <td>53.1000</td>\n",
       "      <td>0</td>\n",
       "      <td>0</td>\n",
       "      <td>0</td>\n",
       "      <td>1</td>\n",
       "      <td>1</td>\n",
       "      <td>0</td>\n",
       "      <td>0</td>\n",
       "      <td>1</td>\n",
       "      <td>0</td>\n",
       "      <td>0</td>\n",
       "    </tr>\n",
       "    <tr>\n",
       "      <th>4</th>\n",
       "      <td>0</td>\n",
       "      <td>35.0</td>\n",
       "      <td>0</td>\n",
       "      <td>0</td>\n",
       "      <td>8.0500</td>\n",
       "      <td>1</td>\n",
       "      <td>0</td>\n",
       "      <td>0</td>\n",
       "      <td>1</td>\n",
       "      <td>0</td>\n",
       "      <td>0</td>\n",
       "      <td>1</td>\n",
       "      <td>1</td>\n",
       "      <td>0</td>\n",
       "      <td>0</td>\n",
       "    </tr>\n",
       "  </tbody>\n",
       "</table>\n",
       "</div>"
      ],
      "text/plain": [
       "   Survived   Age  SibSp  Parch     Fare  Sex_male  Embarked_C  Embarked_Q  \\\n",
       "0         0  22.0      1      0   7.2500         1           0           0   \n",
       "1         1  38.0      1      0  71.2833         0           1           0   \n",
       "2         1  26.0      0      0   7.9250         0           0           0   \n",
       "3         1  35.0      1      0  53.1000         0           0           0   \n",
       "4         0  35.0      0      0   8.0500         1           0           0   \n",
       "\n",
       "   Embarked_S  Pclass_1  Pclass_2  Pclass_3  SocStatus_C  SocStatus_N  \\\n",
       "0           1         0         0         1            1            0   \n",
       "1           0         1         0         0            1            0   \n",
       "2           1         0         0         1            1            0   \n",
       "3           1         1         0         0            1            0   \n",
       "4           1         0         0         1            1            0   \n",
       "\n",
       "   SocStatus_O  \n",
       "0            0  \n",
       "1            0  \n",
       "2            0  \n",
       "3            0  \n",
       "4            0  "
      ]
     },
     "execution_count": 25,
     "metadata": {},
     "output_type": "execute_result"
    }
   ],
   "source": [
    "data.drop(['Name'], axis=1, inplace=True)\n",
    "data.head()"
   ]
  },
  {
   "cell_type": "markdown",
   "id": "0b1206ba",
   "metadata": {},
   "source": [
    " "
   ]
  },
  {
   "cell_type": "markdown",
   "id": "514751b5",
   "metadata": {},
   "source": [
    "## 4) Exploratory Data Analysis"
   ]
  },
  {
   "cell_type": "markdown",
   "id": "f5801b45",
   "metadata": {},
   "source": [
    "We will first begin our exploration of the data by viewing the correlation matrix (both in table and heatmap form)."
   ]
  },
  {
   "cell_type": "code",
   "execution_count": 26,
   "id": "556d1032",
   "metadata": {},
   "outputs": [
    {
     "data": {
      "text/html": [
       "<div>\n",
       "<style scoped>\n",
       "    .dataframe tbody tr th:only-of-type {\n",
       "        vertical-align: middle;\n",
       "    }\n",
       "\n",
       "    .dataframe tbody tr th {\n",
       "        vertical-align: top;\n",
       "    }\n",
       "\n",
       "    .dataframe thead th {\n",
       "        text-align: right;\n",
       "    }\n",
       "</style>\n",
       "<table border=\"1\" class=\"dataframe\">\n",
       "  <thead>\n",
       "    <tr style=\"text-align: right;\">\n",
       "      <th></th>\n",
       "      <th>Survived</th>\n",
       "      <th>Age</th>\n",
       "      <th>SibSp</th>\n",
       "      <th>Parch</th>\n",
       "      <th>Fare</th>\n",
       "      <th>Sex_male</th>\n",
       "      <th>Embarked_C</th>\n",
       "      <th>Embarked_Q</th>\n",
       "      <th>Embarked_S</th>\n",
       "      <th>Pclass_1</th>\n",
       "      <th>Pclass_2</th>\n",
       "      <th>Pclass_3</th>\n",
       "      <th>SocStatus_C</th>\n",
       "      <th>SocStatus_N</th>\n",
       "      <th>SocStatus_O</th>\n",
       "    </tr>\n",
       "  </thead>\n",
       "  <tbody>\n",
       "    <tr>\n",
       "      <th>Survived</th>\n",
       "      <td>1.000000</td>\n",
       "      <td>-0.069809</td>\n",
       "      <td>-0.035322</td>\n",
       "      <td>0.081629</td>\n",
       "      <td>0.257307</td>\n",
       "      <td>-0.543351</td>\n",
       "      <td>0.168240</td>\n",
       "      <td>0.003650</td>\n",
       "      <td>-0.149683</td>\n",
       "      <td>0.285904</td>\n",
       "      <td>0.093349</td>\n",
       "      <td>-0.322308</td>\n",
       "      <td>0.012054</td>\n",
       "      <td>0.033391</td>\n",
       "      <td>-0.031316</td>\n",
       "    </tr>\n",
       "    <tr>\n",
       "      <th>Age</th>\n",
       "      <td>-0.069809</td>\n",
       "      <td>1.000000</td>\n",
       "      <td>-0.232625</td>\n",
       "      <td>-0.179191</td>\n",
       "      <td>0.091566</td>\n",
       "      <td>0.084153</td>\n",
       "      <td>0.032024</td>\n",
       "      <td>-0.013855</td>\n",
       "      <td>-0.019336</td>\n",
       "      <td>0.319916</td>\n",
       "      <td>0.006589</td>\n",
       "      <td>-0.281004</td>\n",
       "      <td>-0.189872</td>\n",
       "      <td>0.068799</td>\n",
       "      <td>0.177484</td>\n",
       "    </tr>\n",
       "    <tr>\n",
       "      <th>SibSp</th>\n",
       "      <td>-0.035322</td>\n",
       "      <td>-0.232625</td>\n",
       "      <td>1.000000</td>\n",
       "      <td>0.414838</td>\n",
       "      <td>0.159651</td>\n",
       "      <td>-0.114631</td>\n",
       "      <td>-0.059528</td>\n",
       "      <td>-0.026354</td>\n",
       "      <td>0.068734</td>\n",
       "      <td>-0.054582</td>\n",
       "      <td>-0.055932</td>\n",
       "      <td>0.092548</td>\n",
       "      <td>0.025874</td>\n",
       "      <td>-0.008384</td>\n",
       "      <td>-0.024712</td>\n",
       "    </tr>\n",
       "    <tr>\n",
       "      <th>Parch</th>\n",
       "      <td>0.081629</td>\n",
       "      <td>-0.179191</td>\n",
       "      <td>0.414838</td>\n",
       "      <td>1.000000</td>\n",
       "      <td>0.216225</td>\n",
       "      <td>-0.245489</td>\n",
       "      <td>-0.011069</td>\n",
       "      <td>-0.081228</td>\n",
       "      <td>0.060814</td>\n",
       "      <td>-0.017633</td>\n",
       "      <td>-0.000734</td>\n",
       "      <td>0.015790</td>\n",
       "      <td>0.059535</td>\n",
       "      <td>-0.035583</td>\n",
       "      <td>-0.048211</td>\n",
       "    </tr>\n",
       "    <tr>\n",
       "      <th>Fare</th>\n",
       "      <td>0.257307</td>\n",
       "      <td>0.091566</td>\n",
       "      <td>0.159651</td>\n",
       "      <td>0.216225</td>\n",
       "      <td>1.000000</td>\n",
       "      <td>-0.182333</td>\n",
       "      <td>0.269335</td>\n",
       "      <td>-0.117216</td>\n",
       "      <td>-0.162184</td>\n",
       "      <td>0.591711</td>\n",
       "      <td>-0.118557</td>\n",
       "      <td>-0.413333</td>\n",
       "      <td>-0.016275</td>\n",
       "      <td>0.015044</td>\n",
       "      <td>0.010357</td>\n",
       "    </tr>\n",
       "    <tr>\n",
       "      <th>Sex_male</th>\n",
       "      <td>-0.543351</td>\n",
       "      <td>0.084153</td>\n",
       "      <td>-0.114631</td>\n",
       "      <td>-0.245489</td>\n",
       "      <td>-0.182333</td>\n",
       "      <td>1.000000</td>\n",
       "      <td>-0.082853</td>\n",
       "      <td>-0.074115</td>\n",
       "      <td>0.119224</td>\n",
       "      <td>-0.098013</td>\n",
       "      <td>-0.064746</td>\n",
       "      <td>0.137143</td>\n",
       "      <td>-0.075638</td>\n",
       "      <td>-0.007483</td>\n",
       "      <td>0.089228</td>\n",
       "    </tr>\n",
       "    <tr>\n",
       "      <th>Embarked_C</th>\n",
       "      <td>0.168240</td>\n",
       "      <td>0.032024</td>\n",
       "      <td>-0.059528</td>\n",
       "      <td>-0.011069</td>\n",
       "      <td>0.269335</td>\n",
       "      <td>-0.082853</td>\n",
       "      <td>1.000000</td>\n",
       "      <td>-0.148258</td>\n",
       "      <td>-0.782742</td>\n",
       "      <td>0.296423</td>\n",
       "      <td>-0.125416</td>\n",
       "      <td>-0.153329</td>\n",
       "      <td>-0.030095</td>\n",
       "      <td>0.079020</td>\n",
       "      <td>-0.008034</td>\n",
       "    </tr>\n",
       "    <tr>\n",
       "      <th>Embarked_Q</th>\n",
       "      <td>0.003650</td>\n",
       "      <td>-0.013855</td>\n",
       "      <td>-0.026354</td>\n",
       "      <td>-0.081228</td>\n",
       "      <td>-0.117216</td>\n",
       "      <td>-0.074115</td>\n",
       "      <td>-0.148258</td>\n",
       "      <td>1.000000</td>\n",
       "      <td>-0.499421</td>\n",
       "      <td>-0.155342</td>\n",
       "      <td>-0.127301</td>\n",
       "      <td>0.237449</td>\n",
       "      <td>-0.000311</td>\n",
       "      <td>-0.023105</td>\n",
       "      <td>0.012618</td>\n",
       "    </tr>\n",
       "    <tr>\n",
       "      <th>Embarked_S</th>\n",
       "      <td>-0.149683</td>\n",
       "      <td>-0.019336</td>\n",
       "      <td>0.068734</td>\n",
       "      <td>0.060814</td>\n",
       "      <td>-0.162184</td>\n",
       "      <td>0.119224</td>\n",
       "      <td>-0.782742</td>\n",
       "      <td>-0.499421</td>\n",
       "      <td>1.000000</td>\n",
       "      <td>-0.161921</td>\n",
       "      <td>0.189980</td>\n",
       "      <td>-0.015104</td>\n",
       "      <td>0.026561</td>\n",
       "      <td>-0.054685</td>\n",
       "      <td>-0.000902</td>\n",
       "    </tr>\n",
       "    <tr>\n",
       "      <th>Pclass_1</th>\n",
       "      <td>0.285904</td>\n",
       "      <td>0.319916</td>\n",
       "      <td>-0.054582</td>\n",
       "      <td>-0.017633</td>\n",
       "      <td>0.591711</td>\n",
       "      <td>-0.098013</td>\n",
       "      <td>0.296423</td>\n",
       "      <td>-0.155342</td>\n",
       "      <td>-0.161921</td>\n",
       "      <td>1.000000</td>\n",
       "      <td>-0.288585</td>\n",
       "      <td>-0.626738</td>\n",
       "      <td>-0.155640</td>\n",
       "      <td>0.132798</td>\n",
       "      <td>0.104919</td>\n",
       "    </tr>\n",
       "    <tr>\n",
       "      <th>Pclass_2</th>\n",
       "      <td>0.093349</td>\n",
       "      <td>0.006589</td>\n",
       "      <td>-0.055932</td>\n",
       "      <td>-0.000734</td>\n",
       "      <td>-0.118557</td>\n",
       "      <td>-0.064746</td>\n",
       "      <td>-0.125416</td>\n",
       "      <td>-0.127301</td>\n",
       "      <td>0.189980</td>\n",
       "      <td>-0.288585</td>\n",
       "      <td>1.000000</td>\n",
       "      <td>-0.565210</td>\n",
       "      <td>-0.056827</td>\n",
       "      <td>-0.038324</td>\n",
       "      <td>0.084401</td>\n",
       "    </tr>\n",
       "    <tr>\n",
       "      <th>Pclass_3</th>\n",
       "      <td>-0.322308</td>\n",
       "      <td>-0.281004</td>\n",
       "      <td>0.092548</td>\n",
       "      <td>0.015790</td>\n",
       "      <td>-0.413333</td>\n",
       "      <td>0.137143</td>\n",
       "      <td>-0.153329</td>\n",
       "      <td>0.237449</td>\n",
       "      <td>-0.015104</td>\n",
       "      <td>-0.626738</td>\n",
       "      <td>-0.565210</td>\n",
       "      <td>1.000000</td>\n",
       "      <td>0.180349</td>\n",
       "      <td>-0.083230</td>\n",
       "      <td>-0.159089</td>\n",
       "    </tr>\n",
       "    <tr>\n",
       "      <th>SocStatus_C</th>\n",
       "      <td>0.012054</td>\n",
       "      <td>-0.189872</td>\n",
       "      <td>0.025874</td>\n",
       "      <td>0.059535</td>\n",
       "      <td>-0.016275</td>\n",
       "      <td>-0.075638</td>\n",
       "      <td>-0.030095</td>\n",
       "      <td>-0.000311</td>\n",
       "      <td>0.026561</td>\n",
       "      <td>-0.155640</td>\n",
       "      <td>-0.056827</td>\n",
       "      <td>0.180349</td>\n",
       "      <td>1.000000</td>\n",
       "      <td>-0.461492</td>\n",
       "      <td>-0.882115</td>\n",
       "    </tr>\n",
       "    <tr>\n",
       "      <th>SocStatus_N</th>\n",
       "      <td>0.033391</td>\n",
       "      <td>0.068799</td>\n",
       "      <td>-0.008384</td>\n",
       "      <td>-0.035583</td>\n",
       "      <td>0.015044</td>\n",
       "      <td>-0.007483</td>\n",
       "      <td>0.079020</td>\n",
       "      <td>-0.023105</td>\n",
       "      <td>-0.054685</td>\n",
       "      <td>0.132798</td>\n",
       "      <td>-0.038324</td>\n",
       "      <td>-0.083230</td>\n",
       "      <td>-0.461492</td>\n",
       "      <td>1.000000</td>\n",
       "      <td>-0.010787</td>\n",
       "    </tr>\n",
       "    <tr>\n",
       "      <th>SocStatus_O</th>\n",
       "      <td>-0.031316</td>\n",
       "      <td>0.177484</td>\n",
       "      <td>-0.024712</td>\n",
       "      <td>-0.048211</td>\n",
       "      <td>0.010357</td>\n",
       "      <td>0.089228</td>\n",
       "      <td>-0.008034</td>\n",
       "      <td>0.012618</td>\n",
       "      <td>-0.000902</td>\n",
       "      <td>0.104919</td>\n",
       "      <td>0.084401</td>\n",
       "      <td>-0.159089</td>\n",
       "      <td>-0.882115</td>\n",
       "      <td>-0.010787</td>\n",
       "      <td>1.000000</td>\n",
       "    </tr>\n",
       "  </tbody>\n",
       "</table>\n",
       "</div>"
      ],
      "text/plain": [
       "             Survived       Age     SibSp     Parch      Fare  Sex_male  \\\n",
       "Survived     1.000000 -0.069809 -0.035322  0.081629  0.257307 -0.543351   \n",
       "Age         -0.069809  1.000000 -0.232625 -0.179191  0.091566  0.084153   \n",
       "SibSp       -0.035322 -0.232625  1.000000  0.414838  0.159651 -0.114631   \n",
       "Parch        0.081629 -0.179191  0.414838  1.000000  0.216225 -0.245489   \n",
       "Fare         0.257307  0.091566  0.159651  0.216225  1.000000 -0.182333   \n",
       "Sex_male    -0.543351  0.084153 -0.114631 -0.245489 -0.182333  1.000000   \n",
       "Embarked_C   0.168240  0.032024 -0.059528 -0.011069  0.269335 -0.082853   \n",
       "Embarked_Q   0.003650 -0.013855 -0.026354 -0.081228 -0.117216 -0.074115   \n",
       "Embarked_S  -0.149683 -0.019336  0.068734  0.060814 -0.162184  0.119224   \n",
       "Pclass_1     0.285904  0.319916 -0.054582 -0.017633  0.591711 -0.098013   \n",
       "Pclass_2     0.093349  0.006589 -0.055932 -0.000734 -0.118557 -0.064746   \n",
       "Pclass_3    -0.322308 -0.281004  0.092548  0.015790 -0.413333  0.137143   \n",
       "SocStatus_C  0.012054 -0.189872  0.025874  0.059535 -0.016275 -0.075638   \n",
       "SocStatus_N  0.033391  0.068799 -0.008384 -0.035583  0.015044 -0.007483   \n",
       "SocStatus_O -0.031316  0.177484 -0.024712 -0.048211  0.010357  0.089228   \n",
       "\n",
       "             Embarked_C  Embarked_Q  Embarked_S  Pclass_1  Pclass_2  Pclass_3  \\\n",
       "Survived       0.168240    0.003650   -0.149683  0.285904  0.093349 -0.322308   \n",
       "Age            0.032024   -0.013855   -0.019336  0.319916  0.006589 -0.281004   \n",
       "SibSp         -0.059528   -0.026354    0.068734 -0.054582 -0.055932  0.092548   \n",
       "Parch         -0.011069   -0.081228    0.060814 -0.017633 -0.000734  0.015790   \n",
       "Fare           0.269335   -0.117216   -0.162184  0.591711 -0.118557 -0.413333   \n",
       "Sex_male      -0.082853   -0.074115    0.119224 -0.098013 -0.064746  0.137143   \n",
       "Embarked_C     1.000000   -0.148258   -0.782742  0.296423 -0.125416 -0.153329   \n",
       "Embarked_Q    -0.148258    1.000000   -0.499421 -0.155342 -0.127301  0.237449   \n",
       "Embarked_S    -0.782742   -0.499421    1.000000 -0.161921  0.189980 -0.015104   \n",
       "Pclass_1       0.296423   -0.155342   -0.161921  1.000000 -0.288585 -0.626738   \n",
       "Pclass_2      -0.125416   -0.127301    0.189980 -0.288585  1.000000 -0.565210   \n",
       "Pclass_3      -0.153329    0.237449   -0.015104 -0.626738 -0.565210  1.000000   \n",
       "SocStatus_C   -0.030095   -0.000311    0.026561 -0.155640 -0.056827  0.180349   \n",
       "SocStatus_N    0.079020   -0.023105   -0.054685  0.132798 -0.038324 -0.083230   \n",
       "SocStatus_O   -0.008034    0.012618   -0.000902  0.104919  0.084401 -0.159089   \n",
       "\n",
       "             SocStatus_C  SocStatus_N  SocStatus_O  \n",
       "Survived        0.012054     0.033391    -0.031316  \n",
       "Age            -0.189872     0.068799     0.177484  \n",
       "SibSp           0.025874    -0.008384    -0.024712  \n",
       "Parch           0.059535    -0.035583    -0.048211  \n",
       "Fare           -0.016275     0.015044     0.010357  \n",
       "Sex_male       -0.075638    -0.007483     0.089228  \n",
       "Embarked_C     -0.030095     0.079020    -0.008034  \n",
       "Embarked_Q     -0.000311    -0.023105     0.012618  \n",
       "Embarked_S      0.026561    -0.054685    -0.000902  \n",
       "Pclass_1       -0.155640     0.132798     0.104919  \n",
       "Pclass_2       -0.056827    -0.038324     0.084401  \n",
       "Pclass_3        0.180349    -0.083230    -0.159089  \n",
       "SocStatus_C     1.000000    -0.461492    -0.882115  \n",
       "SocStatus_N    -0.461492     1.000000    -0.010787  \n",
       "SocStatus_O    -0.882115    -0.010787     1.000000  "
      ]
     },
     "execution_count": 26,
     "metadata": {},
     "output_type": "execute_result"
    }
   ],
   "source": [
    "corr2 = data.corr()\n",
    "corr2"
   ]
  },
  {
   "cell_type": "code",
   "execution_count": 27,
   "id": "aaaba7d8",
   "metadata": {},
   "outputs": [
    {
     "data": {
      "text/plain": [
       "<AxesSubplot:>"
      ]
     },
     "execution_count": 27,
     "metadata": {},
     "output_type": "execute_result"
    },
    {
     "data": {
      "image/png": "[encoded data removed]",
      "text/plain": [
       "<Figure size 720x720 with 2 Axes>"
      ]
     },
     "metadata": {
      "needs_background": "light"
     },
     "output_type": "display_data"
    }
   ],
   "source": [
    "import seaborn as sns\n",
    "import matplotlib.pyplot as plt\n",
    "\n",
    "plt.figure(figsize=(10, 10))\n",
    "sns.heatmap(corr2, linewidths=1)"
   ]
  },
  {
   "cell_type": "markdown",
   "id": "64c24398",
   "metadata": {},
   "source": [
    " "
   ]
  },
  {
   "cell_type": "markdown",
   "id": "8c167593",
   "metadata": {},
   "source": [
    "Looking specifically at the absolute values of the data, the top 4 factors that seem to be most correlated with surviving the shipwreck (in order):\n",
    "\n",
    "1. Sex_male (negative)\n",
    "2. Pclass_3 (negative)\n",
    "3. Pclass_1 (positive)\n",
    "4. Fare (positive)\n",
    "\n",
    "So other than gender, it seems that surviving was correlated to what was paid. "
   ]
  },
  {
   "cell_type": "markdown",
   "id": "3e2036b7",
   "metadata": {},
   "source": [
    " "
   ]
  },
  {
   "cell_type": "markdown",
   "id": "c7e37fc5",
   "metadata": {},
   "source": [
    "Let us examine some of the two non-binary numerical data columns (Age, Fare) as it relates to survival to notice any trends."
   ]
  },
  {
   "cell_type": "code",
   "execution_count": 28,
   "id": "ae79020f",
   "metadata": {},
   "outputs": [
    {
     "data": {
      "image/png": "[encoded data removed]",
      "text/plain": [
       "<Figure size 1152x360 with 1 Axes>"
      ]
     },
     "metadata": {
      "needs_background": "light"
     },
     "output_type": "display_data"
    }
   ],
   "source": [
    "plt.figure(figsize=(16,5))\n",
    "sns.lineplot(x=\"Age\", y=\"Survived\", data=data)\n",
    "plt.show()"
   ]
  },
  {
   "cell_type": "markdown",
   "id": "15ece535",
   "metadata": {},
   "source": [
    " "
   ]
  },
  {
   "cell_type": "markdown",
   "id": "c8dfddbe",
   "metadata": {},
   "source": [
    "Beginning with age, we can see from this graph that there is a great deal of noise in this graph. Only in the high age bracket (60 and above) do we see a more flat graph.  However, this is also due to the low number of individuals in this age bracket (as shown in the below histogram)."
   ]
  },
  {
   "cell_type": "code",
   "execution_count": 29,
   "id": "6f04d75d",
   "metadata": {},
   "outputs": [
    {
     "data": {
      "image/png": "[encoded data removed]",
      "text/plain": [
       "<Figure size 432x288 with 1 Axes>"
      ]
     },
     "metadata": {
      "needs_background": "light"
     },
     "output_type": "display_data"
    }
   ],
   "source": [
    "data[\"Age\"].hist()\n",
    "plt.title(\"Age\")\n",
    "plt.show()"
   ]
  },
  {
   "cell_type": "markdown",
   "id": "8ac594eb",
   "metadata": {},
   "source": [
    " "
   ]
  },
  {
   "cell_type": "markdown",
   "id": "2b10fad3",
   "metadata": {},
   "source": [
    "Now let us examine the relation of the fare paid to survival."
   ]
  },
  {
   "cell_type": "code",
   "execution_count": 30,
   "id": "4f804a4d",
   "metadata": {},
   "outputs": [
    {
     "data": {
      "image/png": "[encoded data removed]",
      "text/plain": [
       "<Figure size 1152x360 with 1 Axes>"
      ]
     },
     "metadata": {
      "needs_background": "light"
     },
     "output_type": "display_data"
    }
   ],
   "source": [
    "plt.figure(figsize=(16,5))\n",
    "sns.lineplot(x=\"Fare\", y=\"Survived\", data=data)\n",
    "plt.show()"
   ]
  },
  {
   "cell_type": "markdown",
   "id": "41a4dd79",
   "metadata": {},
   "source": [
    " "
   ]
  },
  {
   "cell_type": "markdown",
   "id": "ca04f252",
   "metadata": {},
   "source": [
    "Below 100 pounds, this is some very noisy data. Above this value the graph becomes far less noisy.  However, looking at the counts of passengers who paid less than 100 pounds, it is a significant majority."
   ]
  },
  {
   "cell_type": "code",
   "execution_count": 31,
   "id": "41ad047d",
   "metadata": {},
   "outputs": [
    {
     "data": {
      "image/png": "[encoded data removed]",
      "text/plain": [
       "<Figure size 432x288 with 1 Axes>"
      ]
     },
     "metadata": {
      "needs_background": "light"
     },
     "output_type": "display_data"
    },
    {
     "name": "stdout",
     "output_type": "stream",
     "text": [
      "Number of passengers who paid less than 100 pounds: \n"
     ]
    },
    {
     "data": {
      "text/plain": [
       "Fare\n",
       "True     838\n",
       "False     53\n",
       "dtype: int64"
      ]
     },
     "execution_count": 31,
     "metadata": {},
     "output_type": "execute_result"
    }
   ],
   "source": [
    "data[\"Fare\"].hist()\n",
    "plt.title(\"Fare\")\n",
    "plt.show()\n",
    "\n",
    "print(\"Number of passengers who paid less than 100 pounds: \")\n",
    "data.value_counts(data[\"Fare\"] < 100)"
   ]
  },
  {
   "cell_type": "markdown",
   "id": "fa6536ac",
   "metadata": {},
   "source": [
    " "
   ]
  },
  {
   "cell_type": "markdown",
   "id": "65a064d8",
   "metadata": {},
   "source": [
    "There do still remain some variables that are moderately to highly correlated. Some are expected, such as the categorical variables that were split into separate columns. Being mutually exclusive, these would definetely have an effect on each other.\n",
    "\n",
    "In another case, \"Fare\" is quite possitively correlated to \"Pclass_1\".  This may be expected, but also may need to be considered to avoid overfitting.\n",
    "\n",
    "Lastly, \"Parch\" and \"SibSp\" are fairly correlated. Given that both these columns describe whether the passenger is travelling alone or not, we may examine this more in the next section for some feature engineering."
   ]
  },
  {
   "cell_type": "markdown",
   "id": "a16397f2",
   "metadata": {},
   "source": [
    " "
   ]
  },
  {
   "cell_type": "markdown",
   "id": "dd69179c",
   "metadata": {},
   "source": [
    "## 5) Models"
   ]
  },
  {
   "cell_type": "markdown",
   "id": "91a335d8",
   "metadata": {},
   "source": [
    "In this section, we will begin to build our classification models. Both an Adaboost and Random Forest model will be used. "
   ]
  },
  {
   "cell_type": "code",
   "execution_count": 32,
   "id": "68c28626",
   "metadata": {},
   "outputs": [],
   "source": [
    "from sklearn.ensemble import AdaBoostClassifier\n",
    "from sklearn.ensemble import RandomForestClassifier\n",
    "from sklearn.model_selection import train_test_split\n",
    "from sklearn.model_selection import RandomizedSearchCV\n",
    "from sklearn.model_selection import GridSearchCV"
   ]
  },
  {
   "cell_type": "code",
   "execution_count": 33,
   "id": "445c00b2",
   "metadata": {},
   "outputs": [],
   "source": [
    "y1 = data[\"Survived\"]\n",
    "X1 = data.drop([\"Survived\"], axis=1)\n",
    "\n",
    "X1_train, X1_test, y1_train, y1_test = train_test_split(X1, y1, test_size=0.2)"
   ]
  },
  {
   "cell_type": "markdown",
   "id": "f8a02845",
   "metadata": {},
   "source": [
    "  "
   ]
  },
  {
   "cell_type": "markdown",
   "id": "a3d0b345",
   "metadata": {},
   "source": [
    "We will now construct an AdaBoost classifier (with default settings) to make some predictions."
   ]
  },
  {
   "cell_type": "code",
   "execution_count": 34,
   "id": "ff2a2700",
   "metadata": {},
   "outputs": [
    {
     "name": "stdout",
     "output_type": "stream",
     "text": [
      "AdaBoost score = 0.7988826815642458\n"
     ]
    }
   ],
   "source": [
    "abc = AdaBoostClassifier(n_estimators=100, learning_rate=1.0, random_state=1234).fit(X1_train, y1_train)\n",
    "res_abc = abc.predict(X1_test)\n",
    "score_abc = abc.score(X1_test, y1_test)\n",
    "print(\"AdaBoost score = \" + str(score_abc))"
   ]
  },
  {
   "cell_type": "markdown",
   "id": "d59e2e00",
   "metadata": {},
   "source": [
    " "
   ]
  },
  {
   "cell_type": "markdown",
   "id": "e1b3c0e6",
   "metadata": {},
   "source": [
    "This is a decent prediction. Let us see if we can improve the score."
   ]
  },
  {
   "cell_type": "code",
   "execution_count": 56,
   "id": "60b05025",
   "metadata": {},
   "outputs": [
    {
     "name": "stdout",
     "output_type": "stream",
     "text": [
      "Fitting 3 folds for each of 100 candidates, totalling 300 fits\n"
     ]
    },
    {
     "data": {
      "text/plain": [
       "{'random_state': 1234,\n",
       " 'n_estimators': 200,\n",
       " 'learning_rate': 1.0,\n",
       " 'algorithm': 'SAMME'}"
      ]
     },
     "execution_count": 56,
     "metadata": {},
     "output_type": "execute_result"
    }
   ],
   "source": [
    "'''\n",
    "n_estimators = [50, 100, 200, 300, 400, 500, 600, 700, 800, 900, 1000, 1100, 1200, 1300, 1400, 1500, 1600, 1700, 1800, 1900, 2000]\n",
    "learning_rate = [1.0, 5.0, 10.0, 100.0]\n",
    "algorithm = ['SAMME.R', 'SAMME']\n",
    "random_state = [1234]\n",
    "\n",
    "abc_random_grid = {'n_estimators': n_estimators,\n",
    "               'learning_rate': learning_rate,\n",
    "               'algorithm': algorithm,\n",
    "               'random_state': random_state\n",
    "              }\n",
    "\n",
    "abc_test1 = AdaBoostClassifier()\n",
    "abc_random = RandomizedSearchCV(estimator = abc_test1, param_distributions = abc_random_grid, n_iter = 100, cv = 3, verbose=2, random_state=42, n_jobs = -1)\n",
    "# Fit the random search model\n",
    "abc_random.fit(X1_train, y1_train)\n",
    "abc_random.best_params_\n",
    "'''"
   ]
  },
  {
   "cell_type": "markdown",
   "id": "f8a486cf",
   "metadata": {},
   "source": [
    " "
   ]
  },
  {
   "cell_type": "markdown",
   "id": "7a1c0d10",
   "metadata": {},
   "source": [
    " "
   ]
  },
  {
   "cell_type": "markdown",
   "id": "49217f89",
   "metadata": {},
   "source": [
    "We will use the above best parameters to select a smaller range of values to use with the GridSearch to improve our AdaBoost Classifier.\n",
    "\n",
    "Note that I have the block of code commented out. This can take some time and is only meant to determine the best values. Uncomment if you wish to test."
   ]
  },
  {
   "cell_type": "code",
   "execution_count": 57,
   "id": "045a7a9c",
   "metadata": {},
   "outputs": [
    {
     "name": "stdout",
     "output_type": "stream",
     "text": [
      "Fitting 3 folds for each of 15 candidates, totalling 45 fits\n"
     ]
    },
    {
     "data": {
      "text/plain": [
       "{'algorithm': 'SAMME',\n",
       " 'learning_rate': 1.0,\n",
       " 'n_estimators': 200,\n",
       " 'random_state': 1234}"
      ]
     },
     "execution_count": 57,
     "metadata": {},
     "output_type": "execute_result"
    }
   ],
   "source": [
    "'''\n",
    "\n",
    "abc_param_grid = {\n",
    "    'n_estimators': [100, 200, 300],\n",
    "    'learning_rate': [1.0, 2.0, 3.0, 4.0, 5.0],\n",
    "    'algorithm': ['SAMME'],\n",
    "    'random_state': [1234]\n",
    "}\n",
    "abc_test2 = AdaBoostClassifier()\n",
    "\n",
    "# Instantiate the grid search model\n",
    "abc_grid_search = GridSearchCV(estimator = abc_test2, param_grid = abc_param_grid, cv = 3, n_jobs = -1, verbose = 2)\n",
    "abc_grid_search.fit(X1_train, y1_train)\n",
    "abc_grid_search.best_params_\n",
    "'''"
   ]
  },
  {
   "cell_type": "markdown",
   "id": "321cc1b6",
   "metadata": {},
   "source": [
    " "
   ]
  },
  {
   "cell_type": "markdown",
   "id": "655d454e",
   "metadata": {},
   "source": [
    "Let us verify if the score has improved."
   ]
  },
  {
   "cell_type": "code",
   "execution_count": 59,
   "id": "abf36c20",
   "metadata": {},
   "outputs": [
    {
     "name": "stdout",
     "output_type": "stream",
     "text": [
      "AdaBoost score = 0.7988826815642458\n"
     ]
    }
   ],
   "source": [
    "abc_f = AdaBoostClassifier(n_estimators=200, learning_rate=1.0, random_state=1234, algorithm='SAMME').fit(X1_train, y1_train)\n",
    "score_abc_f = abc_f.score(X1_test, y1_test)\n",
    "print(\"AdaBoost score = \" + str(score_abc_f))"
   ]
  },
  {
   "cell_type": "markdown",
   "id": "c4440416",
   "metadata": {},
   "source": [
    " "
   ]
  },
  {
   "cell_type": "markdown",
   "id": "9acdbe0e",
   "metadata": {},
   "source": [
    "We will now construct an Random Forest classifier (with default settings) to make some predictions."
   ]
  },
  {
   "cell_type": "code",
   "execution_count": 38,
   "id": "f41a09bf",
   "metadata": {},
   "outputs": [
    {
     "name": "stdout",
     "output_type": "stream",
     "text": [
      "Random Forest score = 0.8379888268156425\n"
     ]
    }
   ],
   "source": [
    "rfc = RandomForestClassifier(random_state=1234).fit(X1_train, y1_train)\n",
    "res_rfc = rfc.predict(X1_test)\n",
    "score_rfc = rfc.score(X1_test, y1_test)\n",
    "print(\"Random Forest score = \" + str(score_rfc))"
   ]
  },
  {
   "cell_type": "markdown",
   "id": "9f4b0237",
   "metadata": {},
   "source": [
    " "
   ]
  },
  {
   "cell_type": "markdown",
   "id": "831cb8e0",
   "metadata": {},
   "source": [
    "Again, let us try to improve this score by first doing a randomized search to get a range of values."
   ]
  },
  {
   "cell_type": "code",
   "execution_count": 39,
   "id": "5bdd1815",
   "metadata": {},
   "outputs": [
    {
     "data": {
      "text/plain": [
       "\"\\nn_estimators = [100, 200, 300, 400, 500, 600, 700, 800, 900, 1000, 1100, 1200, 1300, 1400, 1500, 1600, 1700, 1800, 1900, 2000]\\nmax_features = ['sqrt', 'log2', None]\\nmax_depth = [None, 10, 20, 30, 40, 50, 60, 70, 80, 90, 100, 110, 120, 130]\\nmin_samples_split = [2, 5, 10]\\nmin_samples_leaf = [1, 2, 4]\\nbootstrap = [True, False]\\nccp_alpha = [0.001, 0.002, 0.003, 0.004, 0.005, 0.006, 0.007, 0.008, 0.009, 0.010, 0.011, 0.012, 0.013, 0.014, 0.015]\\nrandom_state = [1234]\\n\\nrfc_random_grid = {'n_estimators': n_estimators,\\n               'max_features': max_features,\\n               'max_depth': max_depth,\\n               'min_samples_split': min_samples_split,\\n               'min_samples_leaf': min_samples_leaf,\\n               'bootstrap': bootstrap,\\n               'ccp_alpha': ccp_alpha,\\n               'random_state': random_state\\n              }\\n\\nrfc_test1 = RandomForestClassifier()\\nrfc_random = RandomizedSearchCV(estimator = rfc_test1, param_distributions = rfc_random_grid, n_iter = 100, cv = 3, verbose=2, random_state=42, n_jobs = -1)\\n# Fit the random search model\\nrfc_random.fit(X1_train, y1_train)\\nrfc_random.best_params_\\n\""
      ]
     },
     "execution_count": 39,
     "metadata": {},
     "output_type": "execute_result"
    }
   ],
   "source": [
    "'''\n",
    "n_estimators = [100, 200, 300, 400, 500, 600, 700, 800, 900, 1000, 1100, 1200, 1300, 1400, 1500, 1600, 1700, 1800, 1900, 2000]\n",
    "max_features = ['sqrt', 'log2', None]\n",
    "max_depth = [None, 10, 20, 30, 40, 50, 60, 70, 80, 90, 100, 110, 120, 130]\n",
    "min_samples_split = [2, 5, 10]\n",
    "min_samples_leaf = [1, 2, 4]\n",
    "bootstrap = [True, False]\n",
    "ccp_alpha = [0.001, 0.002, 0.003, 0.004, 0.005, 0.006, 0.007, 0.008, 0.009, 0.010, 0.011, 0.012, 0.013, 0.014, 0.015]\n",
    "random_state = [1234]\n",
    "\n",
    "rfc_random_grid = {'n_estimators': n_estimators,\n",
    "               'max_features': max_features,\n",
    "               'max_depth': max_depth,\n",
    "               'min_samples_split': min_samples_split,\n",
    "               'min_samples_leaf': min_samples_leaf,\n",
    "               'bootstrap': bootstrap,\n",
    "               'ccp_alpha': ccp_alpha,\n",
    "               'random_state': random_state\n",
    "              }\n",
    "\n",
    "rfc_test1 = RandomForestClassifier()\n",
    "rfc_random = RandomizedSearchCV(estimator = rfc_test1, param_distributions = rfc_random_grid, n_iter = 100, cv = 3, verbose=2, random_state=42, n_jobs = -1)\n",
    "# Fit the random search model\n",
    "rfc_random.fit(X1_train, y1_train)\n",
    "rfc_random.best_params_\n",
    "'''"
   ]
  },
  {
   "cell_type": "markdown",
   "id": "db591c34",
   "metadata": {},
   "source": [
    " "
   ]
  },
  {
   "cell_type": "markdown",
   "id": "540f7885",
   "metadata": {},
   "source": [
    "We will use the above best parameters to select a smaller range of values to use with the GridSearch.\n",
    "\n",
    "Note that I have the block of code commented out. This can take some time and is only meant to determine the best values. Uncomment if you wish to test."
   ]
  },
  {
   "cell_type": "code",
   "execution_count": 40,
   "id": "10ab2e24",
   "metadata": {},
   "outputs": [
    {
     "data": {
      "text/plain": [
       "\"\\n\\nrfc_param_grid = {\\n    'bootstrap': [True],\\n    'max_depth': [None, 10, 20, 30],\\n    'max_features': [None],\\n    'min_samples_leaf': [1, 2, 3],\\n    'min_samples_split': [2, 3, 4],\\n    'n_estimators': [200, 300, 400],\\n    'ccp_alpha': [0.001, 0.002, 0.003, 0.004, 0.005, 0.006, 0.007],\\n    'random_state': [1234]\\n}\\nrfc_test2 = RandomForestClassifier()\\n\\n# Instantiate the grid search model\\nrfc_grid_search = GridSearchCV(estimator = rfc_test2, param_grid = rfc_param_grid, cv = 3, n_jobs = -1, verbose = 2)\\nrfc_grid_search.fit(X1_train, y1_train)\\nrfc_grid_search.best_params_\\n\""
      ]
     },
     "execution_count": 40,
     "metadata": {},
     "output_type": "execute_result"
    }
   ],
   "source": [
    "'''\n",
    "\n",
    "rfc_param_grid = {\n",
    "    'bootstrap': [True],\n",
    "    'max_depth': [None, 10, 20, 30],\n",
    "    'max_features': [None],\n",
    "    'min_samples_leaf': [1, 2, 3],\n",
    "    'min_samples_split': [2, 3, 4],\n",
    "    'n_estimators': [200, 300, 400],\n",
    "    'ccp_alpha': [0.001, 0.002, 0.003, 0.004, 0.005, 0.006, 0.007],\n",
    "    'random_state': [1234]\n",
    "}\n",
    "rfc_test2 = RandomForestClassifier()\n",
    "\n",
    "# Instantiate the grid search model\n",
    "rfc_grid_search = GridSearchCV(estimator = rfc_test2, param_grid = rfc_param_grid, cv = 3, n_jobs = -1, verbose = 2)\n",
    "rfc_grid_search.fit(X1_train, y1_train)\n",
    "rfc_grid_search.best_params_\n",
    "'''"
   ]
  },
  {
   "cell_type": "markdown",
   "id": "d5bd9dfd",
   "metadata": {},
   "source": [
    " "
   ]
  },
  {
   "cell_type": "markdown",
   "id": "23c6bfe0",
   "metadata": {},
   "source": [
    "Now we will add the proposed parameters into the new Random Forest model to see if the score has improved."
   ]
  },
  {
   "cell_type": "code",
   "execution_count": 41,
   "id": "77804b11",
   "metadata": {},
   "outputs": [
    {
     "name": "stdout",
     "output_type": "stream",
     "text": [
      "Random Forest score = 0.8324022346368715\n"
     ]
    }
   ],
   "source": [
    "'''\n",
    "scores = []\n",
    "\n",
    "for val in np.arange(0.000, 0.015, 0.001):\n",
    "    rfc_f1 = RandomForestClassifier(n_estimators=400, max_depth=10, max_features=None, min_samples_leaf=1, min_samples_split=3, ccp_alpha=val, bootstrap=True, random_state=1234).fit(X1_train, y1_train)\n",
    "    #res_rfc = rfc.predict(X1_test)\n",
    "    score_rfc_f1 = rfc_f1.score(X1_test, y1_test)\n",
    "    scores.append(score_rfc_f1)\n",
    "print(\"Max score = \" + str(max(scores)))\n",
    "'''\n",
    "\n",
    "rfc_f =  RandomForestClassifier(n_estimators=400, max_depth=10, max_features=None, min_samples_leaf=1, min_samples_split=3, ccp_alpha=0.001, bootstrap=True, random_state=1234).fit(X1_train, y1_train)\n",
    "score_rfc_f = rfc_f.score(X1_test, y1_test)\n",
    "print(\"Random Forest score = \" + str(score_rfc_f))"
   ]
  },
  {
   "cell_type": "markdown",
   "id": "fab58f6e",
   "metadata": {},
   "source": [
    " "
   ]
  },
  {
   "cell_type": "markdown",
   "id": "f3cdce1a",
   "metadata": {},
   "source": [
    "There were two warmings at the end of the EDA about two items that may result in overfitting.  We first mentioned that \"Fare\" may be redundant given that the \"Pclass\" type gives essentially the same info (and it is quite correlated with \"Pclass_1\").\n",
    "\n",
    "Also, \"Parch\" and \"SibSp\" are fairly correlated.  Both of these relate to whether the passenger has family on board with them on the ship."
   ]
  },
  {
   "cell_type": "code",
   "execution_count": 42,
   "id": "5fb10a7a",
   "metadata": {},
   "outputs": [
    {
     "data": {
      "text/html": [
       "<div>\n",
       "<style scoped>\n",
       "    .dataframe tbody tr th:only-of-type {\n",
       "        vertical-align: middle;\n",
       "    }\n",
       "\n",
       "    .dataframe tbody tr th {\n",
       "        vertical-align: top;\n",
       "    }\n",
       "\n",
       "    .dataframe thead th {\n",
       "        text-align: right;\n",
       "    }\n",
       "</style>\n",
       "<table border=\"1\" class=\"dataframe\">\n",
       "  <thead>\n",
       "    <tr style=\"text-align: right;\">\n",
       "      <th></th>\n",
       "      <th>Survived</th>\n",
       "      <th>Age</th>\n",
       "      <th>Fare</th>\n",
       "      <th>Sex_male</th>\n",
       "      <th>Embarked_C</th>\n",
       "      <th>Embarked_Q</th>\n",
       "      <th>Embarked_S</th>\n",
       "      <th>Pclass_1</th>\n",
       "      <th>Pclass_2</th>\n",
       "      <th>Pclass_3</th>\n",
       "      <th>SocStatus_C</th>\n",
       "      <th>SocStatus_N</th>\n",
       "      <th>SocStatus_O</th>\n",
       "      <th>Family</th>\n",
       "    </tr>\n",
       "  </thead>\n",
       "  <tbody>\n",
       "    <tr>\n",
       "      <th>0</th>\n",
       "      <td>0</td>\n",
       "      <td>22.0</td>\n",
       "      <td>7.2500</td>\n",
       "      <td>1</td>\n",
       "      <td>0</td>\n",
       "      <td>0</td>\n",
       "      <td>1</td>\n",
       "      <td>0</td>\n",
       "      <td>0</td>\n",
       "      <td>1</td>\n",
       "      <td>1</td>\n",
       "      <td>0</td>\n",
       "      <td>0</td>\n",
       "      <td>1</td>\n",
       "    </tr>\n",
       "    <tr>\n",
       "      <th>1</th>\n",
       "      <td>1</td>\n",
       "      <td>38.0</td>\n",
       "      <td>71.2833</td>\n",
       "      <td>0</td>\n",
       "      <td>1</td>\n",
       "      <td>0</td>\n",
       "      <td>0</td>\n",
       "      <td>1</td>\n",
       "      <td>0</td>\n",
       "      <td>0</td>\n",
       "      <td>1</td>\n",
       "      <td>0</td>\n",
       "      <td>0</td>\n",
       "      <td>1</td>\n",
       "    </tr>\n",
       "    <tr>\n",
       "      <th>2</th>\n",
       "      <td>1</td>\n",
       "      <td>26.0</td>\n",
       "      <td>7.9250</td>\n",
       "      <td>0</td>\n",
       "      <td>0</td>\n",
       "      <td>0</td>\n",
       "      <td>1</td>\n",
       "      <td>0</td>\n",
       "      <td>0</td>\n",
       "      <td>1</td>\n",
       "      <td>1</td>\n",
       "      <td>0</td>\n",
       "      <td>0</td>\n",
       "      <td>0</td>\n",
       "    </tr>\n",
       "    <tr>\n",
       "      <th>3</th>\n",
       "      <td>1</td>\n",
       "      <td>35.0</td>\n",
       "      <td>53.1000</td>\n",
       "      <td>0</td>\n",
       "      <td>0</td>\n",
       "      <td>0</td>\n",
       "      <td>1</td>\n",
       "      <td>1</td>\n",
       "      <td>0</td>\n",
       "      <td>0</td>\n",
       "      <td>1</td>\n",
       "      <td>0</td>\n",
       "      <td>0</td>\n",
       "      <td>1</td>\n",
       "    </tr>\n",
       "    <tr>\n",
       "      <th>4</th>\n",
       "      <td>0</td>\n",
       "      <td>35.0</td>\n",
       "      <td>8.0500</td>\n",
       "      <td>1</td>\n",
       "      <td>0</td>\n",
       "      <td>0</td>\n",
       "      <td>1</td>\n",
       "      <td>0</td>\n",
       "      <td>0</td>\n",
       "      <td>1</td>\n",
       "      <td>1</td>\n",
       "      <td>0</td>\n",
       "      <td>0</td>\n",
       "      <td>0</td>\n",
       "    </tr>\n",
       "  </tbody>\n",
       "</table>\n",
       "</div>"
      ],
      "text/plain": [
       "   Survived   Age     Fare  Sex_male  Embarked_C  Embarked_Q  Embarked_S  \\\n",
       "0         0  22.0   7.2500         1           0           0           1   \n",
       "1         1  38.0  71.2833         0           1           0           0   \n",
       "2         1  26.0   7.9250         0           0           0           1   \n",
       "3         1  35.0  53.1000         0           0           0           1   \n",
       "4         0  35.0   8.0500         1           0           0           1   \n",
       "\n",
       "   Pclass_1  Pclass_2  Pclass_3  SocStatus_C  SocStatus_N  SocStatus_O  Family  \n",
       "0         0         0         1            1            0            0       1  \n",
       "1         1         0         0            1            0            0       1  \n",
       "2         0         0         1            1            0            0       0  \n",
       "3         1         0         0            1            0            0       1  \n",
       "4         0         0         1            1            0            0       0  "
      ]
     },
     "execution_count": 42,
     "metadata": {},
     "output_type": "execute_result"
    }
   ],
   "source": [
    "data[\"Family\"] = data[\"SibSp\"] + data[\"Parch\"]\n",
    "data.drop([\"SibSp\", \"Parch\"], axis=1, inplace=True)\n",
    "\n",
    "data.head()"
   ]
  },
  {
   "cell_type": "code",
   "execution_count": 43,
   "id": "346bc617",
   "metadata": {},
   "outputs": [],
   "source": [
    "y2 = data[\"Survived\"]\n",
    "X2 = data.drop([\"Survived\"], axis=1)\n",
    "\n",
    "X2_train, X2_test, y2_train, y2_test = train_test_split(X2, y2, test_size=0.2)"
   ]
  },
  {
   "cell_type": "code",
   "execution_count": 44,
   "id": "07329c40",
   "metadata": {},
   "outputs": [
    {
     "name": "stdout",
     "output_type": "stream",
     "text": [
      "AdaBoost score = 0.8044692737430168\n",
      "Random Forest score = 0.8435754189944135\n"
     ]
    }
   ],
   "source": [
    "abc_f2 = AdaBoostClassifier(n_estimators=100, learning_rate=1.0, random_state=1234, algorithm='SAMME').fit(X2_train, y2_train)\n",
    "score_abc_f2 = abc_f2.score(X2_test, y2_test)\n",
    "print(\"AdaBoost score = \" + str(score_abc_f2))\n",
    "\n",
    "rfc_f2 =  RandomForestClassifier(n_estimators=400, max_depth=10, max_features=None, min_samples_leaf=1, min_samples_split=3, ccp_alpha=0.001, bootstrap=True, random_state=1234).fit(X2_train, y2_train)\n",
    "score_rfc_f2 = rfc_f2.score(X2_test, y2_test)\n",
    "print(\"Random Forest score = \" + str(score_rfc_f2))"
   ]
  },
  {
   "cell_type": "markdown",
   "id": "1bb4057f",
   "metadata": {},
   "source": [
    " "
   ]
  },
  {
   "cell_type": "markdown",
   "id": "90ef68f7",
   "metadata": {},
   "source": [
    "Let us try dropping the \"Fare\" column from the dataset to see if (along with creating the \"Family\") column, this will improve the score."
   ]
  },
  {
   "cell_type": "code",
   "execution_count": 45,
   "id": "791f9f7f",
   "metadata": {},
   "outputs": [],
   "source": [
    "y3 = data[\"Survived\"]\n",
    "X3 = data.drop([\"Survived\", \"Fare\"], axis=1)\n",
    "\n",
    "X3_train, X3_test, y3_train, y3_test = train_test_split(X3, y3, test_size=0.2)"
   ]
  },
  {
   "cell_type": "code",
   "execution_count": 46,
   "id": "a78c598e",
   "metadata": {},
   "outputs": [
    {
     "name": "stdout",
     "output_type": "stream",
     "text": [
      "AdaBoost score = 0.8212290502793296\n",
      "Random Forest score = 0.8100558659217877\n"
     ]
    }
   ],
   "source": [
    "abc_f3 = AdaBoostClassifier(n_estimators=100, learning_rate=1.0, random_state=1234, algorithm='SAMME').fit(X3_train, y3_train)\n",
    "score_abc_f3 = abc_f3.score(X3_test, y3_test)\n",
    "print(\"AdaBoost score = \" + str(score_abc_f3))\n",
    "\n",
    "rfc_f3 =  RandomForestClassifier(n_estimators=400, max_depth=10, max_features=None, min_samples_leaf=1, min_samples_split=3, ccp_alpha=0.001, bootstrap=True, random_state=1234).fit(X3_train, y3_train)\n",
    "score_rfc_f3 = rfc_f3.score(X3_test, y3_test)\n",
    "print(\"Random Forest score = \" + str(score_rfc_f3))"
   ]
  },
  {
   "cell_type": "markdown",
   "id": "064d8dbf",
   "metadata": {},
   "source": [
    "## 6) Results and Analysis"
   ]
  },
  {
   "cell_type": "markdown",
   "id": "e88ac5de",
   "metadata": {},
   "source": [
    "This is the final project for DTSA-5509, Introduction to Machine Learning: Supervised Learning. According to the United States Center for Disease Control, CDC, heart disease is the leading cause of death in the United States (https://www.cdc.gov/heartdisease/index.htm). Additionally, because heart disease may be “silent” and not diagnosed until a person experiences signs or symptoms of heart disease, several different scoring mechanisms have been developed to predict a person's risk of currently having it or getting it in the future (one example (https://www.healthy-heart.org/keep-your-heart-healthy/predicting-managing-risk-of-heart- disease/)).\n",
    "\n",
    "This project attempts to predict whether or not a person currently has heart disease based on the 2020 annual CDC survey data of 400k adults related to their health status (https://www.kaggle.com/datasets/kamilpytlak/personal-key-indicators-of-heart-disease) This Jupyter notebook along with the data used to create report can be found at and cloned from https://github.com/clayv/DTSA-5509_Final (https://github.com/clayv/DTSA-5509_Final)."
   ]
  },
  {
   "cell_type": "code",
   "execution_count": 47,
   "id": "76ee144b",
   "metadata": {},
   "outputs": [],
   "source": [
    "from numpy import mean\n",
    "from numpy import std\n",
    "from sklearn.model_selection import RepeatedStratifiedKFold\n",
    "from sklearn.model_selection import cross_val_score\n",
    "from sklearn import metrics"
   ]
  },
  {
   "cell_type": "markdown",
   "id": "410bd20b",
   "metadata": {},
   "source": [
    " "
   ]
  },
  {
   "cell_type": "markdown",
   "id": "cfe43712",
   "metadata": {},
   "source": [
    "First we will examine the final results for the Adaboost classifier."
   ]
  },
  {
   "cell_type": "code",
   "execution_count": 48,
   "id": "5c46c99e",
   "metadata": {},
   "outputs": [],
   "source": [
    "abc_final = AdaBoostClassifier(n_estimators=200, learning_rate=1.0, random_state=1234, algorithm='SAMME').fit(X2_train, y2_train)\n",
    "pred_abc_final = abc_final.predict(X2_test)"
   ]
  },
  {
   "cell_type": "code",
   "execution_count": 49,
   "id": "bcaf5b03",
   "metadata": {},
   "outputs": [
    {
     "name": "stdout",
     "output_type": "stream",
     "text": [
      "Accuracy: 0.8044692737430168\n",
      "Precision: 0.8113207547169812\n",
      "Recall: 0.6323529411764706\n",
      "F1 score: 0.7107438016528926\n",
      "Area Under Curve (AUC): 0.849695283518813\n",
      "\n",
      "Confusion Matrix:\n",
      "[[101  10]\n",
      " [ 25  43]]\n"
     ]
    },
    {
     "data": {
      "image/png": "[encoded data removed]",
      "text/plain": [
       "<Figure size 432x288 with 1 Axes>"
      ]
     },
     "metadata": {
      "needs_background": "light"
     },
     "output_type": "display_data"
    }
   ],
   "source": [
    "print(\"Accuracy: {}\".format(metrics.accuracy_score(y2_test, pred_abc_final)))\n",
    "print(\"Precision: {}\".format(metrics.precision_score(y2_test, pred_abc_final, pos_label = True)))\n",
    "print(\"Recall: {}\".format(metrics.recall_score(y2_test, pred_abc_final, pos_label = True)))\n",
    "print(\"F1 score: {}\".format(metrics.f1_score(y2_test, pred_abc_final)))\n",
    "print(\"Area Under Curve (AUC): {}\".format(metrics.roc_auc_score(y2_test, [p[1] for p in abc_final.predict_proba(X2_test)])))\n",
    "print(\"\\nConfusion Matrix:\")\n",
    "print(metrics.confusion_matrix(y2_test, pred_abc_final))\n",
    "_ = metrics.RocCurveDisplay.from_estimator(abc_final, X2_test, y2_test)"
   ]
  },
  {
   "cell_type": "markdown",
   "id": "9702e9fa",
   "metadata": {},
   "source": [
    "The below code will cross-validate the model to further check the accuracy.  It reports a score that is slightly less than the previous test."
   ]
  },
  {
   "cell_type": "code",
   "execution_count": 50,
   "id": "b2eb18d0",
   "metadata": {},
   "outputs": [
    {
     "name": "stdout",
     "output_type": "stream",
     "text": [
      "Adaboost Accuracy: 0.752 (0.091)\n"
     ]
    }
   ],
   "source": [
    "# evaluate the model\n",
    "cv_abc = RepeatedStratifiedKFold(n_splits=10, n_repeats=3, random_state=1)\n",
    "n_scores_abc = cross_val_score(abc_final, X2_test, y2_test, scoring='accuracy', cv=cv_abc, n_jobs=-1, error_score='raise')\n",
    "# report performance\n",
    "print('Adaboost Accuracy: %.3f (%.3f)' % (mean(n_scores_abc), std(n_scores_abc)))"
   ]
  },
  {
   "cell_type": "markdown",
   "id": "d2ec7086",
   "metadata": {},
   "source": [
    "Now we will examine the importance of individual features as it relates to the impact on the final Adaboost prediction.  We observe that being male or female has a significant impact on the final prediction. The family feature is also significant in the final prediction.  It is interesting to note that only six of the features have any significant impact in the final prediction."
   ]
  },
  {
   "cell_type": "code",
   "execution_count": 51,
   "id": "86b2451a",
   "metadata": {},
   "outputs": [
    {
     "data": {
      "text/plain": [
       "<BarContainer object of 13 artists>"
      ]
     },
     "execution_count": 51,
     "metadata": {},
     "output_type": "execute_result"
    },
    {
     "data": {
      "image/png": "[encoded data removed]",
      "text/plain": [
       "<Figure size 432x288 with 1 Axes>"
      ]
     },
     "metadata": {
      "needs_background": "light"
     },
     "output_type": "display_data"
    }
   ],
   "source": [
    "plt.barh(X2_train.columns, abc_final.feature_importances_)"
   ]
  },
  {
   "cell_type": "markdown",
   "id": "5a9a9e78",
   "metadata": {},
   "source": [
    " "
   ]
  },
  {
   "cell_type": "markdown",
   "id": "84138001",
   "metadata": {},
   "source": [
    "Now let us evaluate the Random Forest classifier. Again we will generate the final model and evaluate the model."
   ]
  },
  {
   "cell_type": "code",
   "execution_count": 52,
   "id": "10806403",
   "metadata": {},
   "outputs": [],
   "source": [
    "rfc_final =  RandomForestClassifier(n_estimators=400, max_depth=10, max_features=None, min_samples_leaf=1, min_samples_split=3, ccp_alpha=0.001, bootstrap=True, random_state=1234).fit(X2_train, y2_train)\n",
    "pred_rfc_final = rfc_final.predict(X2_test)"
   ]
  },
  {
   "cell_type": "code",
   "execution_count": 53,
   "id": "bace4a91",
   "metadata": {},
   "outputs": [
    {
     "name": "stdout",
     "output_type": "stream",
     "text": [
      "Accuracy: 0.8435754189944135\n",
      "Precision: 0.9166666666666666\n",
      "Recall: 0.6470588235294118\n",
      "F1 score: 0.7586206896551724\n",
      "Area Under Curve (AUC): 0.8707604663487016\n",
      "\n",
      "Confusion Matrix:\n",
      "[[107   4]\n",
      " [ 24  44]]\n"
     ]
    },
    {
     "data": {
      "image/png": "[encoded data removed]",
      "text/plain": [
       "<Figure size 432x288 with 1 Axes>"
      ]
     },
     "metadata": {
      "needs_background": "light"
     },
     "output_type": "display_data"
    }
   ],
   "source": [
    "print(\"Accuracy: {}\".format(metrics.accuracy_score(y2_test, pred_rfc_final)))\n",
    "print(\"Precision: {}\".format(metrics.precision_score(y2_test, pred_rfc_final, pos_label = True)))\n",
    "print(\"Recall: {}\".format(metrics.recall_score(y2_test, pred_rfc_final, pos_label = True)))\n",
    "print(\"F1 score: {}\".format(metrics.f1_score(y2_test, pred_rfc_final)))\n",
    "print(\"Area Under Curve (AUC): {}\".format(metrics.roc_auc_score(y2_test, [p[1] for p in rfc_final.predict_proba(X2_test)])))\n",
    "print(\"\\nConfusion Matrix:\")\n",
    "print(metrics.confusion_matrix(y2_test, pred_rfc_final))\n",
    "_ = metrics.RocCurveDisplay.from_estimator(rfc_final, X2_test, y2_test)"
   ]
  },
  {
   "cell_type": "markdown",
   "id": "2efa7dc6",
   "metadata": {},
   "source": [
    "As before, we will use cross-validation to further evaluate the model.  The reported difference compared to above is noticeable (0.83 versus 0.78) but not significant."
   ]
  },
  {
   "cell_type": "code",
   "execution_count": 54,
   "id": "46fe38ca",
   "metadata": {},
   "outputs": [
    {
     "name": "stdout",
     "output_type": "stream",
     "text": [
      "Random Forest Accuracy: 0.795 (0.088)\n"
     ]
    }
   ],
   "source": [
    "# evaluate the model\n",
    "cv_rfc = RepeatedStratifiedKFold(n_splits=10, n_repeats=3, random_state=1)\n",
    "n_scores_rfc = cross_val_score(rfc_final, X2_test, y2_test, scoring='accuracy', cv=cv_rfc, n_jobs=-1, error_score='raise')\n",
    "# report performance\n",
    "print('Random Forest Accuracy: %.3f (%.3f)' % (mean(n_scores_rfc), std(n_scores_rfc)))"
   ]
  },
  {
   "cell_type": "markdown",
   "id": "4167c9fc",
   "metadata": {},
   "source": [
    "In examining the feature importances, again we see that being male or female has a significant impact on the final prediction. Also similar to the Ababoost model, the fare paid and age of the passenger had a big impact. However, the biggest difference is that whether the passenger had family on board had far less of an impact on the final prediction."
   ]
  },
  {
   "cell_type": "code",
   "execution_count": 55,
   "id": "a7aa38cc",
   "metadata": {},
   "outputs": [
    {
     "data": {
      "text/plain": [
       "<BarContainer object of 13 artists>"
      ]
     },
     "execution_count": 55,
     "metadata": {},
     "output_type": "execute_result"
    },
    {
     "data": {
      "image/png": "[encoded data removed]",
      "text/plain": [
       "<Figure size 432x288 with 1 Axes>"
      ]
     },
     "metadata": {
      "needs_background": "light"
     },
     "output_type": "display_data"
    }
   ],
   "source": [
    "plt.barh(X2_train.columns, rfc_final.feature_importances_)"
   ]
  },
  {
   "cell_type": "markdown",
   "id": "5e34511e",
   "metadata": {},
   "source": [
    " "
   ]
  },
  {
   "cell_type": "markdown",
   "id": "8bccb467",
   "metadata": {},
   "source": [
    "## 7) Discussion and Conclusion"
   ]
  },
  {
   "cell_type": "markdown",
   "id": "a4186f39",
   "metadata": {},
   "source": [
    "In predicting the survivors of the Titanic, in this particular analysis the Random Forest model (with tuning) was superior to the Adaboost model. The RFC implementation was superior in all facets: accuracy, precision, recall, F1 score, AUC). It also had the greater accuracy after cross-validation was performed."
   ]
  },
  {
   "cell_type": "markdown",
   "id": "270a78d0",
   "metadata": {},
   "source": [
    "Let us now analyze the finaldata to determine if we can understand the results in a real-world context. The AdaBoost model listed \"Age\" as the most important feature in the prediction.  For the Random Forest, it was \"Sex_male\" that was most important in predicting survival of the sinking.  Before considering the reasons, let us re-examine the correlation matrix."
   ]
  },
  {
   "cell_type": "code",
   "execution_count": 62,
   "id": "d26209b4",
   "metadata": {},
   "outputs": [
    {
     "data": {
      "text/html": [
       "<div>\n",
       "<style scoped>\n",
       "    .dataframe tbody tr th:only-of-type {\n",
       "        vertical-align: middle;\n",
       "    }\n",
       "\n",
       "    .dataframe tbody tr th {\n",
       "        vertical-align: top;\n",
       "    }\n",
       "\n",
       "    .dataframe thead th {\n",
       "        text-align: right;\n",
       "    }\n",
       "</style>\n",
       "<table border=\"1\" class=\"dataframe\">\n",
       "  <thead>\n",
       "    <tr style=\"text-align: right;\">\n",
       "      <th></th>\n",
       "      <th>Survived</th>\n",
       "      <th>Age</th>\n",
       "      <th>Fare</th>\n",
       "      <th>Sex_male</th>\n",
       "      <th>Embarked_C</th>\n",
       "      <th>Embarked_Q</th>\n",
       "      <th>Embarked_S</th>\n",
       "      <th>Pclass_1</th>\n",
       "      <th>Pclass_2</th>\n",
       "      <th>Pclass_3</th>\n",
       "      <th>SocStatus_C</th>\n",
       "      <th>SocStatus_N</th>\n",
       "      <th>SocStatus_O</th>\n",
       "      <th>Family</th>\n",
       "    </tr>\n",
       "  </thead>\n",
       "  <tbody>\n",
       "    <tr>\n",
       "      <th>Survived</th>\n",
       "      <td>1.000000</td>\n",
       "      <td>-0.069809</td>\n",
       "      <td>0.257307</td>\n",
       "      <td>-0.543351</td>\n",
       "      <td>0.168240</td>\n",
       "      <td>0.003650</td>\n",
       "      <td>-0.149683</td>\n",
       "      <td>0.285904</td>\n",
       "      <td>0.093349</td>\n",
       "      <td>-0.322308</td>\n",
       "      <td>0.012054</td>\n",
       "      <td>0.033391</td>\n",
       "      <td>-0.031316</td>\n",
       "      <td>0.016639</td>\n",
       "    </tr>\n",
       "    <tr>\n",
       "      <th>Age</th>\n",
       "      <td>-0.069809</td>\n",
       "      <td>1.000000</td>\n",
       "      <td>0.091566</td>\n",
       "      <td>0.084153</td>\n",
       "      <td>0.032024</td>\n",
       "      <td>-0.013855</td>\n",
       "      <td>-0.019336</td>\n",
       "      <td>0.319916</td>\n",
       "      <td>0.006589</td>\n",
       "      <td>-0.281004</td>\n",
       "      <td>-0.189872</td>\n",
       "      <td>0.068799</td>\n",
       "      <td>0.177484</td>\n",
       "      <td>-0.248512</td>\n",
       "    </tr>\n",
       "    <tr>\n",
       "      <th>Fare</th>\n",
       "      <td>0.257307</td>\n",
       "      <td>0.091566</td>\n",
       "      <td>1.000000</td>\n",
       "      <td>-0.182333</td>\n",
       "      <td>0.269335</td>\n",
       "      <td>-0.117216</td>\n",
       "      <td>-0.162184</td>\n",
       "      <td>0.591711</td>\n",
       "      <td>-0.118557</td>\n",
       "      <td>-0.413333</td>\n",
       "      <td>-0.016275</td>\n",
       "      <td>0.015044</td>\n",
       "      <td>0.010357</td>\n",
       "      <td>0.217138</td>\n",
       "    </tr>\n",
       "    <tr>\n",
       "      <th>Sex_male</th>\n",
       "      <td>-0.543351</td>\n",
       "      <td>0.084153</td>\n",
       "      <td>-0.182333</td>\n",
       "      <td>1.000000</td>\n",
       "      <td>-0.082853</td>\n",
       "      <td>-0.074115</td>\n",
       "      <td>0.119224</td>\n",
       "      <td>-0.098013</td>\n",
       "      <td>-0.064746</td>\n",
       "      <td>0.137143</td>\n",
       "      <td>-0.075638</td>\n",
       "      <td>-0.007483</td>\n",
       "      <td>0.089228</td>\n",
       "      <td>-0.200988</td>\n",
       "    </tr>\n",
       "    <tr>\n",
       "      <th>Embarked_C</th>\n",
       "      <td>0.168240</td>\n",
       "      <td>0.032024</td>\n",
       "      <td>0.269335</td>\n",
       "      <td>-0.082853</td>\n",
       "      <td>1.000000</td>\n",
       "      <td>-0.148258</td>\n",
       "      <td>-0.782742</td>\n",
       "      <td>0.296423</td>\n",
       "      <td>-0.125416</td>\n",
       "      <td>-0.153329</td>\n",
       "      <td>-0.030095</td>\n",
       "      <td>0.079020</td>\n",
       "      <td>-0.008034</td>\n",
       "      <td>-0.046215</td>\n",
       "    </tr>\n",
       "    <tr>\n",
       "      <th>Embarked_Q</th>\n",
       "      <td>0.003650</td>\n",
       "      <td>-0.013855</td>\n",
       "      <td>-0.117216</td>\n",
       "      <td>-0.074115</td>\n",
       "      <td>-0.148258</td>\n",
       "      <td>1.000000</td>\n",
       "      <td>-0.499421</td>\n",
       "      <td>-0.155342</td>\n",
       "      <td>-0.127301</td>\n",
       "      <td>0.237449</td>\n",
       "      <td>-0.000311</td>\n",
       "      <td>-0.023105</td>\n",
       "      <td>0.012618</td>\n",
       "      <td>-0.058592</td>\n",
       "    </tr>\n",
       "    <tr>\n",
       "      <th>Embarked_S</th>\n",
       "      <td>-0.149683</td>\n",
       "      <td>-0.019336</td>\n",
       "      <td>-0.162184</td>\n",
       "      <td>0.119224</td>\n",
       "      <td>-0.782742</td>\n",
       "      <td>-0.499421</td>\n",
       "      <td>1.000000</td>\n",
       "      <td>-0.161921</td>\n",
       "      <td>0.189980</td>\n",
       "      <td>-0.015104</td>\n",
       "      <td>0.026561</td>\n",
       "      <td>-0.054685</td>\n",
       "      <td>-0.000902</td>\n",
       "      <td>0.077359</td>\n",
       "    </tr>\n",
       "    <tr>\n",
       "      <th>Pclass_1</th>\n",
       "      <td>0.285904</td>\n",
       "      <td>0.319916</td>\n",
       "      <td>0.591711</td>\n",
       "      <td>-0.098013</td>\n",
       "      <td>0.296423</td>\n",
       "      <td>-0.155342</td>\n",
       "      <td>-0.161921</td>\n",
       "      <td>1.000000</td>\n",
       "      <td>-0.288585</td>\n",
       "      <td>-0.626738</td>\n",
       "      <td>-0.155640</td>\n",
       "      <td>0.132798</td>\n",
       "      <td>0.104919</td>\n",
       "      <td>-0.046114</td>\n",
       "    </tr>\n",
       "    <tr>\n",
       "      <th>Pclass_2</th>\n",
       "      <td>0.093349</td>\n",
       "      <td>0.006589</td>\n",
       "      <td>-0.118557</td>\n",
       "      <td>-0.064746</td>\n",
       "      <td>-0.125416</td>\n",
       "      <td>-0.127301</td>\n",
       "      <td>0.189980</td>\n",
       "      <td>-0.288585</td>\n",
       "      <td>1.000000</td>\n",
       "      <td>-0.565210</td>\n",
       "      <td>-0.056827</td>\n",
       "      <td>-0.038324</td>\n",
       "      <td>0.084401</td>\n",
       "      <td>-0.038594</td>\n",
       "    </tr>\n",
       "    <tr>\n",
       "      <th>Pclass_3</th>\n",
       "      <td>-0.322308</td>\n",
       "      <td>-0.281004</td>\n",
       "      <td>-0.413333</td>\n",
       "      <td>0.137143</td>\n",
       "      <td>-0.153329</td>\n",
       "      <td>0.237449</td>\n",
       "      <td>-0.015104</td>\n",
       "      <td>-0.626738</td>\n",
       "      <td>-0.565210</td>\n",
       "      <td>1.000000</td>\n",
       "      <td>0.180349</td>\n",
       "      <td>-0.083230</td>\n",
       "      <td>-0.159089</td>\n",
       "      <td>0.071142</td>\n",
       "    </tr>\n",
       "    <tr>\n",
       "      <th>SocStatus_C</th>\n",
       "      <td>0.012054</td>\n",
       "      <td>-0.189872</td>\n",
       "      <td>-0.016275</td>\n",
       "      <td>-0.075638</td>\n",
       "      <td>-0.030095</td>\n",
       "      <td>-0.000311</td>\n",
       "      <td>0.026561</td>\n",
       "      <td>-0.155640</td>\n",
       "      <td>-0.056827</td>\n",
       "      <td>0.180349</td>\n",
       "      <td>1.000000</td>\n",
       "      <td>-0.461492</td>\n",
       "      <td>-0.882115</td>\n",
       "      <td>0.047426</td>\n",
       "    </tr>\n",
       "    <tr>\n",
       "      <th>SocStatus_N</th>\n",
       "      <td>0.033391</td>\n",
       "      <td>0.068799</td>\n",
       "      <td>0.015044</td>\n",
       "      <td>-0.007483</td>\n",
       "      <td>0.079020</td>\n",
       "      <td>-0.023105</td>\n",
       "      <td>-0.054685</td>\n",
       "      <td>0.132798</td>\n",
       "      <td>-0.038324</td>\n",
       "      <td>-0.083230</td>\n",
       "      <td>-0.461492</td>\n",
       "      <td>1.000000</td>\n",
       "      <td>-0.010787</td>\n",
       "      <td>-0.023507</td>\n",
       "    </tr>\n",
       "    <tr>\n",
       "      <th>SocStatus_O</th>\n",
       "      <td>-0.031316</td>\n",
       "      <td>0.177484</td>\n",
       "      <td>0.010357</td>\n",
       "      <td>0.089228</td>\n",
       "      <td>-0.008034</td>\n",
       "      <td>0.012618</td>\n",
       "      <td>-0.000902</td>\n",
       "      <td>0.104919</td>\n",
       "      <td>0.084401</td>\n",
       "      <td>-0.159089</td>\n",
       "      <td>-0.882115</td>\n",
       "      <td>-0.010787</td>\n",
       "      <td>1.000000</td>\n",
       "      <td>-0.040975</td>\n",
       "    </tr>\n",
       "    <tr>\n",
       "      <th>Family</th>\n",
       "      <td>0.016639</td>\n",
       "      <td>-0.248512</td>\n",
       "      <td>0.217138</td>\n",
       "      <td>-0.200988</td>\n",
       "      <td>-0.046215</td>\n",
       "      <td>-0.058592</td>\n",
       "      <td>0.077359</td>\n",
       "      <td>-0.046114</td>\n",
       "      <td>-0.038594</td>\n",
       "      <td>0.071142</td>\n",
       "      <td>0.047426</td>\n",
       "      <td>-0.023507</td>\n",
       "      <td>-0.040975</td>\n",
       "      <td>1.000000</td>\n",
       "    </tr>\n",
       "  </tbody>\n",
       "</table>\n",
       "</div>"
      ],
      "text/plain": [
       "             Survived       Age      Fare  Sex_male  Embarked_C  Embarked_Q  \\\n",
       "Survived     1.000000 -0.069809  0.257307 -0.543351    0.168240    0.003650   \n",
       "Age         -0.069809  1.000000  0.091566  0.084153    0.032024   -0.013855   \n",
       "Fare         0.257307  0.091566  1.000000 -0.182333    0.269335   -0.117216   \n",
       "Sex_male    -0.543351  0.084153 -0.182333  1.000000   -0.082853   -0.074115   \n",
       "Embarked_C   0.168240  0.032024  0.269335 -0.082853    1.000000   -0.148258   \n",
       "Embarked_Q   0.003650 -0.013855 -0.117216 -0.074115   -0.148258    1.000000   \n",
       "Embarked_S  -0.149683 -0.019336 -0.162184  0.119224   -0.782742   -0.499421   \n",
       "Pclass_1     0.285904  0.319916  0.591711 -0.098013    0.296423   -0.155342   \n",
       "Pclass_2     0.093349  0.006589 -0.118557 -0.064746   -0.125416   -0.127301   \n",
       "Pclass_3    -0.322308 -0.281004 -0.413333  0.137143   -0.153329    0.237449   \n",
       "SocStatus_C  0.012054 -0.189872 -0.016275 -0.075638   -0.030095   -0.000311   \n",
       "SocStatus_N  0.033391  0.068799  0.015044 -0.007483    0.079020   -0.023105   \n",
       "SocStatus_O -0.031316  0.177484  0.010357  0.089228   -0.008034    0.012618   \n",
       "Family       0.016639 -0.248512  0.217138 -0.200988   -0.046215   -0.058592   \n",
       "\n",
       "             Embarked_S  Pclass_1  Pclass_2  Pclass_3  SocStatus_C  \\\n",
       "Survived      -0.149683  0.285904  0.093349 -0.322308     0.012054   \n",
       "Age           -0.019336  0.319916  0.006589 -0.281004    -0.189872   \n",
       "Fare          -0.162184  0.591711 -0.118557 -0.413333    -0.016275   \n",
       "Sex_male       0.119224 -0.098013 -0.064746  0.137143    -0.075638   \n",
       "Embarked_C    -0.782742  0.296423 -0.125416 -0.153329    -0.030095   \n",
       "Embarked_Q    -0.499421 -0.155342 -0.127301  0.237449    -0.000311   \n",
       "Embarked_S     1.000000 -0.161921  0.189980 -0.015104     0.026561   \n",
       "Pclass_1      -0.161921  1.000000 -0.288585 -0.626738    -0.155640   \n",
       "Pclass_2       0.189980 -0.288585  1.000000 -0.565210    -0.056827   \n",
       "Pclass_3      -0.015104 -0.626738 -0.565210  1.000000     0.180349   \n",
       "SocStatus_C    0.026561 -0.155640 -0.056827  0.180349     1.000000   \n",
       "SocStatus_N   -0.054685  0.132798 -0.038324 -0.083230    -0.461492   \n",
       "SocStatus_O   -0.000902  0.104919  0.084401 -0.159089    -0.882115   \n",
       "Family         0.077359 -0.046114 -0.038594  0.071142     0.047426   \n",
       "\n",
       "             SocStatus_N  SocStatus_O    Family  \n",
       "Survived        0.033391    -0.031316  0.016639  \n",
       "Age             0.068799     0.177484 -0.248512  \n",
       "Fare            0.015044     0.010357  0.217138  \n",
       "Sex_male       -0.007483     0.089228 -0.200988  \n",
       "Embarked_C      0.079020    -0.008034 -0.046215  \n",
       "Embarked_Q     -0.023105     0.012618 -0.058592  \n",
       "Embarked_S     -0.054685    -0.000902  0.077359  \n",
       "Pclass_1        0.132798     0.104919 -0.046114  \n",
       "Pclass_2       -0.038324     0.084401 -0.038594  \n",
       "Pclass_3       -0.083230    -0.159089  0.071142  \n",
       "SocStatus_C    -0.461492    -0.882115  0.047426  \n",
       "SocStatus_N     1.000000    -0.010787 -0.023507  \n",
       "SocStatus_O    -0.010787     1.000000 -0.040975  \n",
       "Family         -0.023507    -0.040975  1.000000  "
      ]
     },
     "execution_count": 62,
     "metadata": {},
     "output_type": "execute_result"
    }
   ],
   "source": [
    "corr_final = data.corr()\n",
    "corr_final"
   ]
  },
  {
   "cell_type": "code",
   "execution_count": 63,
   "id": "75607e83",
   "metadata": {},
   "outputs": [
    {
     "data": {
      "text/plain": [
       "<AxesSubplot:>"
      ]
     },
     "execution_count": 63,
     "metadata": {},
     "output_type": "execute_result"
    },
    {
     "data": {
      "image/png": "[encoded data removed]",
      "text/plain": [
       "<Figure size 720x720 with 2 Axes>"
      ]
     },
     "metadata": {
      "needs_background": "light"
     },
     "output_type": "display_data"
    }
   ],
   "source": [
    "plt.figure(figsize=(10, 10))\n",
    "sns.heatmap(corr_final, linewidths=1)"
   ]
  },
  {
   "cell_type": "markdown",
   "id": "5a1a2b4b",
   "metadata": {},
   "source": [
    "Being male and older had a negative relationship with survival.  Knowing context makes this result understandable.  The famous maritime tradition of \"woman and children first\" holds true for this tragedy.  Thus, being young (ie children) or a woman would statistically make sense in the higher chance of survival.  This would also explain why \"Family\" was also a signicant feature in both models (more so in the AdaBoost implementation)."
   ]
  },
  {
   "cell_type": "markdown",
   "id": "05e5e9f6",
   "metadata": {},
   "source": [
    "The other two significant features that should be examine are \"Fare\" and \"Pclass_3\".  Examining the correlation matrix, the paid fare had a positive relationship with survival.  However, being a 3rd Class passenger had a negative relationship.  Again, knowing context, the reason for this in understandable.  Passengers in 1st class naturally paid more to travel on the ship.  Also, the 1st Class cabins were located nearest to the deck of the ship and the lifeboats.  The 3rd class cabins were located further into the ship.  Given that the impact with the iceberg happened at night, most individuals would have been in their cabins.  Thus, they would have been the first cabins impacted by the flooding."
   ]
  },
  {
   "cell_type": "markdown",
   "id": "6880b432",
   "metadata": {},
   "source": [
    "In the initial introduction to this study, it was mentioned whether it was possible to generalize the findings to other similar tragedies.  This can be true to a certain extent.  The sinking of the Titanic resulted in many safety measures being legislated given the various failures experienced during the tragedy.  Thus in a manner of speaking, this can be viewed as generalizing this to other equivalent events."
   ]
  },
  {
   "cell_type": "markdown",
   "id": "4804c628",
   "metadata": {},
   "source": [
    "However, this can also be the danger in trying to apply a historical event to others.  The sinking of the Lusitania happened only three years after the Titanic in roughly the same area of the Atlantic.  However, the Lusitania was struck by a German submarine torpedo and exploded.  It sank in approximately 20 minutes.  The Titanic took nearly 3 hours to sink.  The Costa Concordia capsized when entering into port and was thus a short swim from land.  Thus rescue efforts were significantly easier."
   ]
  },
  {
   "cell_type": "markdown",
   "id": "67d01d9c",
   "metadata": {},
   "source": [
    " "
   ]
  },
  {
   "cell_type": "markdown",
   "id": "d2759d51",
   "metadata": {},
   "source": [
    "## 8) References"
   ]
  },
  {
   "cell_type": "markdown",
   "id": "b5ebf8ff",
   "metadata": {},
   "source": [
    "Please note for the sake of academic honesty that this is one of the competition challenges on Kaggle.  Thus there are plenty of examples of this data being analyzed.  Below I have listed some of the items that were referenced for this final project.\n",
    "\n",
    "1. https://www.kaggle.com/code/aieducation/titanic-eda-lightgbm-gridsearchcv\n",
    "2. https://www.kaggle.com/code/kenjee/titanic-project-example/notebook\n",
    "3. https://towardsdatascience.com/predicting-the-survival-of-titanic-passengers-30870ccc7e8"
   ]
  },
  {
   "cell_type": "code",
   "execution_count": null,
   "id": "07224086",
   "metadata": {},
   "outputs": [],
   "source": []
  }
 ],
 "metadata": {
  "kernelspec": {
   "display_name": "Python 3 (ipykernel)",
   "language": "python",
   "name": "python3"
  },
  "language_info": {
   "codemirror_mode": {
    "name": "ipython",
    "version": 3
   },
   "file_extension": ".py",
   "mimetype": "text/x-python",
   "name": "python",
   "nbconvert_exporter": "python",
   "pygments_lexer": "ipython3",
   "version": "3.9.12"
  }
 },
 "nbformat": 4,
 "nbformat_minor": 5
}
